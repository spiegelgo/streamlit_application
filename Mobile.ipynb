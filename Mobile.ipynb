{
 "cells": [
  {
   "cell_type": "code",
   "execution_count": 69,
   "id": "f8b7f52d-34d7-4b5f-a37a-db2b77b52711",
   "metadata": {},
   "outputs": [],
   "source": [
    "import pandas as pd"
   ]
  },
  {
   "cell_type": "code",
   "execution_count": 70,
   "id": "84f250db-cd22-45cd-9167-3039302661b1",
   "metadata": {},
   "outputs": [],
   "source": [
    "df1 = pd.read_csv('./data/CI_UTILIIZA_MOBILE_APLCTN_USR_CHARTR_INFO_202305.csv')"
   ]
  },
  {
   "cell_type": "code",
   "execution_count": 71,
   "id": "35312fb5-46b9-4fcc-b154-878eca200289",
   "metadata": {},
   "outputs": [],
   "source": [
    "df2 = pd.read_csv('./data/CI_UTILIIZA_MOBILE_APLCTN_USR_CHARTR_INFO_202311.csv')"
   ]
  },
  {
   "cell_type": "code",
   "execution_count": 72,
   "id": "a69a09a6-e26e-4818-8df9-00cce043fdc5",
   "metadata": {},
   "outputs": [],
   "source": [
    "df1 = df1.drop('RESPOND_ID',axis = 1)"
   ]
  },
  {
   "cell_type": "code",
   "execution_count": 73,
   "id": "c42ac0f5-5f04-4512-a65d-cf33b0f98cbe",
   "metadata": {},
   "outputs": [],
   "source": [
    "df2 = df2.drop('RESPOND_ID',axis = 1)"
   ]
  },
  {
   "cell_type": "code",
   "execution_count": 74,
   "id": "c95cd149-0bfe-46f7-b5f2-dffeeed5c096",
   "metadata": {},
   "outputs": [],
   "source": [
    "df = pd.concat([df1,df2])"
   ]
  },
  {
   "cell_type": "code",
   "execution_count": 75,
   "id": "09ab4cb6-8011-4517-bb1b-444f702564ad",
   "metadata": {},
   "outputs": [],
   "source": [
    "df.reset_index(inplace=True)"
   ]
  },
  {
   "cell_type": "code",
   "execution_count": 76,
   "id": "2aa80db0-e43b-4e23-a2f8-59b983c86fef",
   "metadata": {},
   "outputs": [],
   "source": [
    "df.drop('index',axis=1,inplace=True)"
   ]
  },
  {
   "cell_type": "code",
   "execution_count": 77,
   "id": "9a1d2027-e010-4c1a-80a0-d8bff955ebfe",
   "metadata": {},
   "outputs": [
    {
     "data": {
      "text/html": [
       "<div>\n",
       "<style scoped>\n",
       "    .dataframe tbody tr th:only-of-type {\n",
       "        vertical-align: middle;\n",
       "    }\n",
       "\n",
       "    .dataframe tbody tr th {\n",
       "        vertical-align: top;\n",
       "    }\n",
       "\n",
       "    .dataframe thead th {\n",
       "        text-align: right;\n",
       "    }\n",
       "</style>\n",
       "<table border=\"1\" class=\"dataframe\">\n",
       "  <thead>\n",
       "    <tr style=\"text-align: right;\">\n",
       "      <th></th>\n",
       "      <th>EXAMIN_BEGIN_DE</th>\n",
       "      <th>UTILIIZA_MOBILE_APLCTN_MUSIC_PBLPRFR_K_IDOL_AT</th>\n",
       "      <th>UTILIIZA_MOBILE_APLCTN_GAME_AT</th>\n",
       "      <th>UTILIIZA_MOBILE_APLCTN_PHT_AT</th>\n",
       "      <th>UTILIIZA_MOBILE_APLCTN_BRDCST_VIDO_AT</th>\n",
       "      <th>UTILIIZA_MOBILE_APLCTN_CMC_WEBTOON_AT</th>\n",
       "      <th>UTILIIZA_MOBILE_APLCTN_SEARCH_PORTAL_AT</th>\n",
       "      <th>UTILIIZA_MOBILE_APLCTN_FNC_AT</th>\n",
       "      <th>UTILIIZA_MOBILE_APLCTN_ADVANTK_AT</th>\n",
       "      <th>UTILIIZA_MOBILE_APLCTN_TOUR_AT</th>\n",
       "      <th>...</th>\n",
       "      <th>UTILIIZA_MOBILE_APLCTN_CLEAN_DCCS_AT</th>\n",
       "      <th>UTILIIZA_MOBILE_APLCTN_ESTT_AT</th>\n",
       "      <th>UTILIIZA_MOBILE_APLCTN_HSPTL_PHARM_MEDIC_SEARCH_AT</th>\n",
       "      <th>UTILIIZA_MOBILE_APLCTN_USEGT_AT</th>\n",
       "      <th>SEXDSTN_FLAG_CD</th>\n",
       "      <th>AGRDE_FLAG_NM</th>\n",
       "      <th>MRRG_AT_NM</th>\n",
       "      <th>HSHLD_INCOME_DGREE_NM</th>\n",
       "      <th>OCCP_NM</th>\n",
       "      <th>ANSWRR_OC_AREA_NM</th>\n",
       "    </tr>\n",
       "  </thead>\n",
       "  <tbody>\n",
       "    <tr>\n",
       "      <th>0</th>\n",
       "      <td>20230501</td>\n",
       "      <td>N</td>\n",
       "      <td>N</td>\n",
       "      <td>Y</td>\n",
       "      <td>Y</td>\n",
       "      <td>N</td>\n",
       "      <td>N</td>\n",
       "      <td>Y</td>\n",
       "      <td>Y</td>\n",
       "      <td>N</td>\n",
       "      <td>...</td>\n",
       "      <td>N</td>\n",
       "      <td>Y</td>\n",
       "      <td>N</td>\n",
       "      <td>N</td>\n",
       "      <td>F</td>\n",
       "      <td>30대</td>\n",
       "      <td>미혼 / 비혼</td>\n",
       "      <td>600만원</td>\n",
       "      <td>사무직</td>\n",
       "      <td>서울</td>\n",
       "    </tr>\n",
       "    <tr>\n",
       "      <th>1</th>\n",
       "      <td>20230501</td>\n",
       "      <td>N</td>\n",
       "      <td>Y</td>\n",
       "      <td>Y</td>\n",
       "      <td>Y</td>\n",
       "      <td>N</td>\n",
       "      <td>N</td>\n",
       "      <td>Y</td>\n",
       "      <td>Y</td>\n",
       "      <td>Y</td>\n",
       "      <td>...</td>\n",
       "      <td>N</td>\n",
       "      <td>N</td>\n",
       "      <td>N</td>\n",
       "      <td>N</td>\n",
       "      <td>M</td>\n",
       "      <td>40대</td>\n",
       "      <td>기혼</td>\n",
       "      <td>600만원</td>\n",
       "      <td>사무직</td>\n",
       "      <td>경기</td>\n",
       "    </tr>\n",
       "    <tr>\n",
       "      <th>2</th>\n",
       "      <td>20230501</td>\n",
       "      <td>N</td>\n",
       "      <td>Y</td>\n",
       "      <td>Y</td>\n",
       "      <td>Y</td>\n",
       "      <td>Y</td>\n",
       "      <td>Y</td>\n",
       "      <td>Y</td>\n",
       "      <td>N</td>\n",
       "      <td>N</td>\n",
       "      <td>...</td>\n",
       "      <td>N</td>\n",
       "      <td>N</td>\n",
       "      <td>N</td>\n",
       "      <td>N</td>\n",
       "      <td>F</td>\n",
       "      <td>20대</td>\n",
       "      <td>미혼 / 비혼</td>\n",
       "      <td>200만원</td>\n",
       "      <td>대학생</td>\n",
       "      <td>인천</td>\n",
       "    </tr>\n",
       "    <tr>\n",
       "      <th>3</th>\n",
       "      <td>20230501</td>\n",
       "      <td>Y</td>\n",
       "      <td>N</td>\n",
       "      <td>N</td>\n",
       "      <td>Y</td>\n",
       "      <td>N</td>\n",
       "      <td>Y</td>\n",
       "      <td>Y</td>\n",
       "      <td>N</td>\n",
       "      <td>N</td>\n",
       "      <td>...</td>\n",
       "      <td>N</td>\n",
       "      <td>N</td>\n",
       "      <td>N</td>\n",
       "      <td>N</td>\n",
       "      <td>M</td>\n",
       "      <td>50대이상</td>\n",
       "      <td>기타(이혼, 사별 등)</td>\n",
       "      <td>100만원</td>\n",
       "      <td>무직</td>\n",
       "      <td>경기</td>\n",
       "    </tr>\n",
       "    <tr>\n",
       "      <th>4</th>\n",
       "      <td>20230501</td>\n",
       "      <td>N</td>\n",
       "      <td>Y</td>\n",
       "      <td>Y</td>\n",
       "      <td>Y</td>\n",
       "      <td>N</td>\n",
       "      <td>Y</td>\n",
       "      <td>Y</td>\n",
       "      <td>N</td>\n",
       "      <td>Y</td>\n",
       "      <td>...</td>\n",
       "      <td>N</td>\n",
       "      <td>N</td>\n",
       "      <td>N</td>\n",
       "      <td>Y</td>\n",
       "      <td>M</td>\n",
       "      <td>30대</td>\n",
       "      <td>미혼 / 비혼</td>\n",
       "      <td>400만원</td>\n",
       "      <td>사무직</td>\n",
       "      <td>경기</td>\n",
       "    </tr>\n",
       "    <tr>\n",
       "      <th>...</th>\n",
       "      <td>...</td>\n",
       "      <td>...</td>\n",
       "      <td>...</td>\n",
       "      <td>...</td>\n",
       "      <td>...</td>\n",
       "      <td>...</td>\n",
       "      <td>...</td>\n",
       "      <td>...</td>\n",
       "      <td>...</td>\n",
       "      <td>...</td>\n",
       "      <td>...</td>\n",
       "      <td>...</td>\n",
       "      <td>...</td>\n",
       "      <td>...</td>\n",
       "      <td>...</td>\n",
       "      <td>...</td>\n",
       "      <td>...</td>\n",
       "      <td>...</td>\n",
       "      <td>...</td>\n",
       "      <td>...</td>\n",
       "      <td>...</td>\n",
       "    </tr>\n",
       "    <tr>\n",
       "      <th>68436</th>\n",
       "      <td>20231101</td>\n",
       "      <td>N</td>\n",
       "      <td>N</td>\n",
       "      <td>N</td>\n",
       "      <td>N</td>\n",
       "      <td>N</td>\n",
       "      <td>N</td>\n",
       "      <td>N</td>\n",
       "      <td>N</td>\n",
       "      <td>N</td>\n",
       "      <td>...</td>\n",
       "      <td>N</td>\n",
       "      <td>N</td>\n",
       "      <td>N</td>\n",
       "      <td>N</td>\n",
       "      <td>F</td>\n",
       "      <td>30대</td>\n",
       "      <td>기타(이혼, 사별 등)</td>\n",
       "      <td>500만원</td>\n",
       "      <td>기술직</td>\n",
       "      <td>충남</td>\n",
       "    </tr>\n",
       "    <tr>\n",
       "      <th>68437</th>\n",
       "      <td>20231101</td>\n",
       "      <td>N</td>\n",
       "      <td>N</td>\n",
       "      <td>N</td>\n",
       "      <td>N</td>\n",
       "      <td>N</td>\n",
       "      <td>N</td>\n",
       "      <td>N</td>\n",
       "      <td>N</td>\n",
       "      <td>N</td>\n",
       "      <td>...</td>\n",
       "      <td>N</td>\n",
       "      <td>N</td>\n",
       "      <td>N</td>\n",
       "      <td>N</td>\n",
       "      <td>F</td>\n",
       "      <td>20대</td>\n",
       "      <td>미혼 / 비혼</td>\n",
       "      <td>100만원</td>\n",
       "      <td>자유직 (예술가, 종교인 등)</td>\n",
       "      <td>서울</td>\n",
       "    </tr>\n",
       "    <tr>\n",
       "      <th>68438</th>\n",
       "      <td>20231101</td>\n",
       "      <td>N</td>\n",
       "      <td>N</td>\n",
       "      <td>Y</td>\n",
       "      <td>Y</td>\n",
       "      <td>N</td>\n",
       "      <td>Y</td>\n",
       "      <td>Y</td>\n",
       "      <td>N</td>\n",
       "      <td>N</td>\n",
       "      <td>...</td>\n",
       "      <td>N</td>\n",
       "      <td>N</td>\n",
       "      <td>N</td>\n",
       "      <td>Y</td>\n",
       "      <td>F</td>\n",
       "      <td>60대 이상</td>\n",
       "      <td>기혼</td>\n",
       "      <td>300만원</td>\n",
       "      <td>전업주부</td>\n",
       "      <td>경기</td>\n",
       "    </tr>\n",
       "    <tr>\n",
       "      <th>68439</th>\n",
       "      <td>20231101</td>\n",
       "      <td>N</td>\n",
       "      <td>N</td>\n",
       "      <td>N</td>\n",
       "      <td>N</td>\n",
       "      <td>N</td>\n",
       "      <td>N</td>\n",
       "      <td>N</td>\n",
       "      <td>N</td>\n",
       "      <td>N</td>\n",
       "      <td>...</td>\n",
       "      <td>N</td>\n",
       "      <td>N</td>\n",
       "      <td>N</td>\n",
       "      <td>N</td>\n",
       "      <td>M</td>\n",
       "      <td>30대</td>\n",
       "      <td>미혼 / 비혼</td>\n",
       "      <td>300만원</td>\n",
       "      <td>사무직</td>\n",
       "      <td>경남</td>\n",
       "    </tr>\n",
       "    <tr>\n",
       "      <th>68440</th>\n",
       "      <td>20231101</td>\n",
       "      <td>N</td>\n",
       "      <td>N</td>\n",
       "      <td>Y</td>\n",
       "      <td>Y</td>\n",
       "      <td>N</td>\n",
       "      <td>N</td>\n",
       "      <td>Y</td>\n",
       "      <td>N</td>\n",
       "      <td>N</td>\n",
       "      <td>...</td>\n",
       "      <td>N</td>\n",
       "      <td>Y</td>\n",
       "      <td>N</td>\n",
       "      <td>Y</td>\n",
       "      <td>M</td>\n",
       "      <td>30대</td>\n",
       "      <td>기혼</td>\n",
       "      <td>600만원</td>\n",
       "      <td>사무직</td>\n",
       "      <td>경기</td>\n",
       "    </tr>\n",
       "  </tbody>\n",
       "</table>\n",
       "<p>68441 rows × 25 columns</p>\n",
       "</div>"
      ],
      "text/plain": [
       "       EXAMIN_BEGIN_DE UTILIIZA_MOBILE_APLCTN_MUSIC_PBLPRFR_K_IDOL_AT  \\\n",
       "0             20230501                                              N   \n",
       "1             20230501                                              N   \n",
       "2             20230501                                              N   \n",
       "3             20230501                                              Y   \n",
       "4             20230501                                              N   \n",
       "...                ...                                            ...   \n",
       "68436         20231101                                              N   \n",
       "68437         20231101                                              N   \n",
       "68438         20231101                                              N   \n",
       "68439         20231101                                              N   \n",
       "68440         20231101                                              N   \n",
       "\n",
       "      UTILIIZA_MOBILE_APLCTN_GAME_AT UTILIIZA_MOBILE_APLCTN_PHT_AT  \\\n",
       "0                                  N                             Y   \n",
       "1                                  Y                             Y   \n",
       "2                                  Y                             Y   \n",
       "3                                  N                             N   \n",
       "4                                  Y                             Y   \n",
       "...                              ...                           ...   \n",
       "68436                              N                             N   \n",
       "68437                              N                             N   \n",
       "68438                              N                             Y   \n",
       "68439                              N                             N   \n",
       "68440                              N                             Y   \n",
       "\n",
       "      UTILIIZA_MOBILE_APLCTN_BRDCST_VIDO_AT  \\\n",
       "0                                         Y   \n",
       "1                                         Y   \n",
       "2                                         Y   \n",
       "3                                         Y   \n",
       "4                                         Y   \n",
       "...                                     ...   \n",
       "68436                                     N   \n",
       "68437                                     N   \n",
       "68438                                     Y   \n",
       "68439                                     N   \n",
       "68440                                     Y   \n",
       "\n",
       "      UTILIIZA_MOBILE_APLCTN_CMC_WEBTOON_AT  \\\n",
       "0                                         N   \n",
       "1                                         N   \n",
       "2                                         Y   \n",
       "3                                         N   \n",
       "4                                         N   \n",
       "...                                     ...   \n",
       "68436                                     N   \n",
       "68437                                     N   \n",
       "68438                                     N   \n",
       "68439                                     N   \n",
       "68440                                     N   \n",
       "\n",
       "      UTILIIZA_MOBILE_APLCTN_SEARCH_PORTAL_AT UTILIIZA_MOBILE_APLCTN_FNC_AT  \\\n",
       "0                                           N                             Y   \n",
       "1                                           N                             Y   \n",
       "2                                           Y                             Y   \n",
       "3                                           Y                             Y   \n",
       "4                                           Y                             Y   \n",
       "...                                       ...                           ...   \n",
       "68436                                       N                             N   \n",
       "68437                                       N                             N   \n",
       "68438                                       Y                             Y   \n",
       "68439                                       N                             N   \n",
       "68440                                       N                             Y   \n",
       "\n",
       "      UTILIIZA_MOBILE_APLCTN_ADVANTK_AT UTILIIZA_MOBILE_APLCTN_TOUR_AT  ...  \\\n",
       "0                                     Y                              N  ...   \n",
       "1                                     Y                              Y  ...   \n",
       "2                                     N                              N  ...   \n",
       "3                                     N                              N  ...   \n",
       "4                                     N                              Y  ...   \n",
       "...                                 ...                            ...  ...   \n",
       "68436                                 N                              N  ...   \n",
       "68437                                 N                              N  ...   \n",
       "68438                                 N                              N  ...   \n",
       "68439                                 N                              N  ...   \n",
       "68440                                 N                              N  ...   \n",
       "\n",
       "      UTILIIZA_MOBILE_APLCTN_CLEAN_DCCS_AT UTILIIZA_MOBILE_APLCTN_ESTT_AT  \\\n",
       "0                                        N                              Y   \n",
       "1                                        N                              N   \n",
       "2                                        N                              N   \n",
       "3                                        N                              N   \n",
       "4                                        N                              N   \n",
       "...                                    ...                            ...   \n",
       "68436                                    N                              N   \n",
       "68437                                    N                              N   \n",
       "68438                                    N                              N   \n",
       "68439                                    N                              N   \n",
       "68440                                    N                              Y   \n",
       "\n",
       "      UTILIIZA_MOBILE_APLCTN_HSPTL_PHARM_MEDIC_SEARCH_AT  \\\n",
       "0                                                      N   \n",
       "1                                                      N   \n",
       "2                                                      N   \n",
       "3                                                      N   \n",
       "4                                                      N   \n",
       "...                                                  ...   \n",
       "68436                                                  N   \n",
       "68437                                                  N   \n",
       "68438                                                  N   \n",
       "68439                                                  N   \n",
       "68440                                                  N   \n",
       "\n",
       "      UTILIIZA_MOBILE_APLCTN_USEGT_AT SEXDSTN_FLAG_CD AGRDE_FLAG_NM  \\\n",
       "0                                   N               F           30대   \n",
       "1                                   N               M           40대   \n",
       "2                                   N               F           20대   \n",
       "3                                   N               M         50대이상   \n",
       "4                                   Y               M           30대   \n",
       "...                               ...             ...           ...   \n",
       "68436                               N               F           30대   \n",
       "68437                               N               F           20대   \n",
       "68438                               Y               F        60대 이상   \n",
       "68439                               N               M           30대   \n",
       "68440                               Y               M           30대   \n",
       "\n",
       "         MRRG_AT_NM HSHLD_INCOME_DGREE_NM           OCCP_NM ANSWRR_OC_AREA_NM  \n",
       "0           미혼 / 비혼                 600만원               사무직                서울  \n",
       "1                기혼                 600만원               사무직                경기  \n",
       "2           미혼 / 비혼                 200만원               대학생                인천  \n",
       "3      기타(이혼, 사별 등)                 100만원                무직                경기  \n",
       "4           미혼 / 비혼                 400만원               사무직                경기  \n",
       "...             ...                   ...               ...               ...  \n",
       "68436  기타(이혼, 사별 등)                 500만원               기술직                충남  \n",
       "68437       미혼 / 비혼                 100만원  자유직 (예술가, 종교인 등)                서울  \n",
       "68438            기혼                 300만원              전업주부                경기  \n",
       "68439       미혼 / 비혼                 300만원               사무직                경남  \n",
       "68440            기혼                 600만원               사무직                경기  \n",
       "\n",
       "[68441 rows x 25 columns]"
      ]
     },
     "execution_count": 77,
     "metadata": {},
     "output_type": "execute_result"
    }
   ],
   "source": [
    "df"
   ]
  },
  {
   "cell_type": "code",
   "execution_count": 78,
   "id": "49223401-2999-40c8-965b-30fb277417c5",
   "metadata": {},
   "outputs": [],
   "source": [
    "df.drop('EXAMIN_BEGIN_DE',axis=1,inplace=True)"
   ]
  },
  {
   "cell_type": "code",
   "execution_count": 79,
   "id": "74902fc7-c390-4df9-b22b-e4029e098fb9",
   "metadata": {},
   "outputs": [],
   "source": [
    "df.drop('OCCP_NM',axis=1,inplace=True)"
   ]
  },
  {
   "cell_type": "code",
   "execution_count": 80,
   "id": "6470161a-c6c6-4186-ae2b-83348d5f2b7a",
   "metadata": {},
   "outputs": [
    {
     "data": {
      "text/plain": [
       "Index(['UTILIIZA_MOBILE_APLCTN_MUSIC_PBLPRFR_K_IDOL_AT',\n",
       "       'UTILIIZA_MOBILE_APLCTN_GAME_AT', 'UTILIIZA_MOBILE_APLCTN_PHT_AT',\n",
       "       'UTILIIZA_MOBILE_APLCTN_BRDCST_VIDO_AT',\n",
       "       'UTILIIZA_MOBILE_APLCTN_CMC_WEBTOON_AT',\n",
       "       'UTILIIZA_MOBILE_APLCTN_SEARCH_PORTAL_AT',\n",
       "       'UTILIIZA_MOBILE_APLCTN_FNC_AT', 'UTILIIZA_MOBILE_APLCTN_ADVANTK_AT',\n",
       "       'UTILIIZA_MOBILE_APLCTN_TOUR_AT',\n",
       "       'UTILIIZA_MOBILE_APLCTN_FOOD_ORDER_AT',\n",
       "       'UTILIIZA_MOBILE_APLCTN_GBRSTRNT_RECOMEND_RESVE_AT',\n",
       "       'UTILIIZA_MOBILE_APLCTN_SHOPNG_AT', 'UTILIIZA_MOBILE_APLCTN_WRKOT_AT',\n",
       "       'UTILIIZA_MOBILE_APLCTN_EWALLET_AT',\n",
       "       'UTILIIZA_MOBILE_APLCTN_CLEAN_DCCS_AT',\n",
       "       'UTILIIZA_MOBILE_APLCTN_ESTT_AT',\n",
       "       'UTILIIZA_MOBILE_APLCTN_HSPTL_PHARM_MEDIC_SEARCH_AT',\n",
       "       'UTILIIZA_MOBILE_APLCTN_USEGT_AT', 'SEXDSTN_FLAG_CD', 'AGRDE_FLAG_NM',\n",
       "       'MRRG_AT_NM', 'HSHLD_INCOME_DGREE_NM', 'ANSWRR_OC_AREA_NM'],\n",
       "      dtype='object')"
      ]
     },
     "execution_count": 80,
     "metadata": {},
     "output_type": "execute_result"
    }
   ],
   "source": [
    "df.columns"
   ]
  },
  {
   "cell_type": "code",
   "execution_count": 81,
   "id": "f0728370-4d62-4992-9051-5a6311b9f90d",
   "metadata": {},
   "outputs": [],
   "source": [
    "df.columns = ['K-POP_아이돌', '게임', '사진_촬영', '방송_영상','웹툰','검색_포털','금융','예매','여행','음식_주문','맛집_추천_예약','쇼핑','헬스','전자지갑','청소_가사노동','부동산','병원_약국_의약품_검색','중고거래','성별','나이','결혼','월_소득','거주지역']"
   ]
  },
  {
   "cell_type": "code",
   "execution_count": null,
   "id": "7c7f6ca6-b771-4c7d-86df-78f83a2604c2",
   "metadata": {},
   "outputs": [],
   "source": []
  },
  {
   "cell_type": "code",
   "execution_count": 14,
   "id": "92989664-d781-4a8c-b4d4-bbc4240e1447",
   "metadata": {},
   "outputs": [
    {
     "data": {
      "text/html": [
       "<div>\n",
       "<style scoped>\n",
       "    .dataframe tbody tr th:only-of-type {\n",
       "        vertical-align: middle;\n",
       "    }\n",
       "\n",
       "    .dataframe tbody tr th {\n",
       "        vertical-align: top;\n",
       "    }\n",
       "\n",
       "    .dataframe thead th {\n",
       "        text-align: right;\n",
       "    }\n",
       "</style>\n",
       "<table border=\"1\" class=\"dataframe\">\n",
       "  <thead>\n",
       "    <tr style=\"text-align: right;\">\n",
       "      <th></th>\n",
       "      <th>K-POP_아이돌</th>\n",
       "      <th>게임</th>\n",
       "      <th>사진_촬영</th>\n",
       "      <th>방송_영상</th>\n",
       "      <th>웹툰</th>\n",
       "      <th>검색_포털</th>\n",
       "      <th>금융</th>\n",
       "      <th>예매</th>\n",
       "      <th>여행</th>\n",
       "      <th>음식_주문</th>\n",
       "      <th>...</th>\n",
       "      <th>전자지갑</th>\n",
       "      <th>청소_가사노동</th>\n",
       "      <th>부동산</th>\n",
       "      <th>병원_약국_의약품_검색</th>\n",
       "      <th>중고거래</th>\n",
       "      <th>성별</th>\n",
       "      <th>나이</th>\n",
       "      <th>결혼</th>\n",
       "      <th>월_소득</th>\n",
       "      <th>거주지역</th>\n",
       "    </tr>\n",
       "  </thead>\n",
       "  <tbody>\n",
       "    <tr>\n",
       "      <th>0</th>\n",
       "      <td>N</td>\n",
       "      <td>N</td>\n",
       "      <td>Y</td>\n",
       "      <td>Y</td>\n",
       "      <td>N</td>\n",
       "      <td>N</td>\n",
       "      <td>Y</td>\n",
       "      <td>Y</td>\n",
       "      <td>N</td>\n",
       "      <td>Y</td>\n",
       "      <td>...</td>\n",
       "      <td>Y</td>\n",
       "      <td>N</td>\n",
       "      <td>Y</td>\n",
       "      <td>N</td>\n",
       "      <td>N</td>\n",
       "      <td>F</td>\n",
       "      <td>30대</td>\n",
       "      <td>미혼 / 비혼</td>\n",
       "      <td>600만원</td>\n",
       "      <td>서울</td>\n",
       "    </tr>\n",
       "  </tbody>\n",
       "</table>\n",
       "<p>1 rows × 23 columns</p>\n",
       "</div>"
      ],
      "text/plain": [
       "  K-POP_아이돌 게임 사진_촬영 방송_영상 웹툰 검색_포털 금융 예매 여행 음식_주문  ... 전자지갑 청소_가사노동 부동산  \\\n",
       "0         N  N     Y     Y  N     N  Y  Y  N     Y  ...    Y       N   Y   \n",
       "\n",
       "  병원_약국_의약품_검색 중고거래 성별   나이       결혼   월_소득 거주지역  \n",
       "0            N    N  F  30대  미혼 / 비혼  600만원   서울  \n",
       "\n",
       "[1 rows x 23 columns]"
      ]
     },
     "execution_count": 14,
     "metadata": {},
     "output_type": "execute_result"
    }
   ],
   "source": [
    "df.head(1)"
   ]
  },
  {
   "cell_type": "code",
   "execution_count": 22,
   "id": "248706cd-869b-4887-902f-a7b8b3dc68bf",
   "metadata": {},
   "outputs": [
    {
     "data": {
      "text/plain": [
       "K-POP_아이돌       0\n",
       "게임              0\n",
       "사진_촬영           0\n",
       "방송_영상           0\n",
       "웹툰              0\n",
       "검색_포털           0\n",
       "금융              0\n",
       "예매              0\n",
       "여행              0\n",
       "음식_주문           0\n",
       "맛집_추천_예약        0\n",
       "쇼핑              0\n",
       "헬스              0\n",
       "전자지갑            0\n",
       "청소_가사노동         0\n",
       "부동산             0\n",
       "병원_약국_의약품_검색    0\n",
       "중고거래            0\n",
       "성별              0\n",
       "나이              0\n",
       "결혼              0\n",
       "월_소득            0\n",
       "거주지역            0\n",
       "dtype: int64"
      ]
     },
     "execution_count": 22,
     "metadata": {},
     "output_type": "execute_result"
    }
   ],
   "source": [
    "df.isna().sum()"
   ]
  },
  {
   "cell_type": "code",
   "execution_count": 23,
   "id": "afdac605-fbdc-4164-bcef-57e0e13d3fc6",
   "metadata": {},
   "outputs": [
    {
     "data": {
      "text/plain": [
       "array(['30대', '40대', '20대', '50대이상', '10대', '60대 이상', '50대'], dtype=object)"
      ]
     },
     "execution_count": 23,
     "metadata": {},
     "output_type": "execute_result"
    }
   ],
   "source": [
    "df['나이'].unique()"
   ]
  },
  {
   "cell_type": "code",
   "execution_count": 82,
   "id": "7f6f7cea-0e0e-490a-8b5d-8cb6e075004b",
   "metadata": {},
   "outputs": [],
   "source": [
    "df.loc[df['나이'] == '50대이상', '나이'] = '50대'"
   ]
  },
  {
   "cell_type": "code",
   "execution_count": 83,
   "id": "d79eba7c-3166-4e3e-9afb-51ea4da4e14a",
   "metadata": {},
   "outputs": [
    {
     "data": {
      "text/plain": [
       "array(['30대', '40대', '20대', '50대', '10대', '60대 이상'], dtype=object)"
      ]
     },
     "execution_count": 83,
     "metadata": {},
     "output_type": "execute_result"
    }
   ],
   "source": [
    "df['나이'].unique()"
   ]
  },
  {
   "cell_type": "code",
   "execution_count": 84,
   "id": "e5e6d264-e08f-4b45-8bc1-67e6ad6fed64",
   "metadata": {},
   "outputs": [],
   "source": [
    "df.loc[df['나이'] == '60대 이상', '나이'] = '60대'"
   ]
  },
  {
   "cell_type": "code",
   "execution_count": 85,
   "id": "16d243f4-8419-4aac-8fbf-7623f317b389",
   "metadata": {},
   "outputs": [
    {
     "data": {
      "text/plain": [
       "array(['30대', '40대', '20대', '50대', '10대', '60대'], dtype=object)"
      ]
     },
     "execution_count": 85,
     "metadata": {},
     "output_type": "execute_result"
    }
   ],
   "source": [
    "df['나이'].unique()"
   ]
  },
  {
   "cell_type": "code",
   "execution_count": 86,
   "id": "dee0f4cc-47b4-45a9-b1eb-3521941b5fd9",
   "metadata": {},
   "outputs": [],
   "source": [
    "df['나이'] = df['나이'].str.replace('대', '')"
   ]
  },
  {
   "cell_type": "code",
   "execution_count": 87,
   "id": "ca88e067-3065-425d-b15c-8bfe8ee11756",
   "metadata": {},
   "outputs": [
    {
     "data": {
      "text/plain": [
       "array(['30', '40', '20', '50', '10', '60'], dtype=object)"
      ]
     },
     "execution_count": 87,
     "metadata": {},
     "output_type": "execute_result"
    }
   ],
   "source": [
    "df['나이'].unique()"
   ]
  },
  {
   "cell_type": "code",
   "execution_count": 88,
   "id": "41054277-0407-4084-9c00-4c2e5168793f",
   "metadata": {},
   "outputs": [],
   "source": [
    "df['나이']= df['나이'].astype(int)"
   ]
  },
  {
   "cell_type": "code",
   "execution_count": 89,
   "id": "62c24abc-52c2-47c4-bad9-b6ae96331771",
   "metadata": {},
   "outputs": [
    {
     "name": "stdout",
     "output_type": "stream",
     "text": [
      "<class 'pandas.core.series.Series'>\n",
      "RangeIndex: 68441 entries, 0 to 68440\n",
      "Series name: 나이\n",
      "Non-Null Count  Dtype\n",
      "--------------  -----\n",
      "68441 non-null  int32\n",
      "dtypes: int32(1)\n",
      "memory usage: 267.5 KB\n"
     ]
    }
   ],
   "source": [
    "df['나이'].info()"
   ]
  },
  {
   "cell_type": "code",
   "execution_count": 90,
   "id": "d31864fd-0d45-49c1-89db-67063e576fd2",
   "metadata": {},
   "outputs": [
    {
     "data": {
      "text/html": [
       "<div>\n",
       "<style scoped>\n",
       "    .dataframe tbody tr th:only-of-type {\n",
       "        vertical-align: middle;\n",
       "    }\n",
       "\n",
       "    .dataframe tbody tr th {\n",
       "        vertical-align: top;\n",
       "    }\n",
       "\n",
       "    .dataframe thead th {\n",
       "        text-align: right;\n",
       "    }\n",
       "</style>\n",
       "<table border=\"1\" class=\"dataframe\">\n",
       "  <thead>\n",
       "    <tr style=\"text-align: right;\">\n",
       "      <th></th>\n",
       "      <th>K-POP_아이돌</th>\n",
       "      <th>게임</th>\n",
       "      <th>사진_촬영</th>\n",
       "      <th>방송_영상</th>\n",
       "      <th>웹툰</th>\n",
       "      <th>검색_포털</th>\n",
       "      <th>금융</th>\n",
       "      <th>예매</th>\n",
       "      <th>여행</th>\n",
       "      <th>음식_주문</th>\n",
       "      <th>...</th>\n",
       "      <th>전자지갑</th>\n",
       "      <th>청소_가사노동</th>\n",
       "      <th>부동산</th>\n",
       "      <th>병원_약국_의약품_검색</th>\n",
       "      <th>중고거래</th>\n",
       "      <th>성별</th>\n",
       "      <th>나이</th>\n",
       "      <th>결혼</th>\n",
       "      <th>월_소득</th>\n",
       "      <th>거주지역</th>\n",
       "    </tr>\n",
       "  </thead>\n",
       "  <tbody>\n",
       "    <tr>\n",
       "      <th>13</th>\n",
       "      <td>N</td>\n",
       "      <td>N</td>\n",
       "      <td>Y</td>\n",
       "      <td>Y</td>\n",
       "      <td>Y</td>\n",
       "      <td>Y</td>\n",
       "      <td>Y</td>\n",
       "      <td>Y</td>\n",
       "      <td>Y</td>\n",
       "      <td>Y</td>\n",
       "      <td>...</td>\n",
       "      <td>N</td>\n",
       "      <td>N</td>\n",
       "      <td>N</td>\n",
       "      <td>Y</td>\n",
       "      <td>Y</td>\n",
       "      <td>F</td>\n",
       "      <td>30</td>\n",
       "      <td>미혼 / 비혼</td>\n",
       "      <td>모름</td>\n",
       "      <td>인천</td>\n",
       "    </tr>\n",
       "    <tr>\n",
       "      <th>23</th>\n",
       "      <td>Y</td>\n",
       "      <td>Y</td>\n",
       "      <td>Y</td>\n",
       "      <td>Y</td>\n",
       "      <td>Y</td>\n",
       "      <td>Y</td>\n",
       "      <td>Y</td>\n",
       "      <td>N</td>\n",
       "      <td>Y</td>\n",
       "      <td>Y</td>\n",
       "      <td>...</td>\n",
       "      <td>Y</td>\n",
       "      <td>N</td>\n",
       "      <td>N</td>\n",
       "      <td>N</td>\n",
       "      <td>N</td>\n",
       "      <td>F</td>\n",
       "      <td>20</td>\n",
       "      <td>미혼 / 비혼</td>\n",
       "      <td>모름</td>\n",
       "      <td>충북</td>\n",
       "    </tr>\n",
       "    <tr>\n",
       "      <th>24</th>\n",
       "      <td>Y</td>\n",
       "      <td>Y</td>\n",
       "      <td>Y</td>\n",
       "      <td>Y</td>\n",
       "      <td>Y</td>\n",
       "      <td>Y</td>\n",
       "      <td>Y</td>\n",
       "      <td>Y</td>\n",
       "      <td>Y</td>\n",
       "      <td>Y</td>\n",
       "      <td>...</td>\n",
       "      <td>Y</td>\n",
       "      <td>N</td>\n",
       "      <td>N</td>\n",
       "      <td>N</td>\n",
       "      <td>N</td>\n",
       "      <td>F</td>\n",
       "      <td>20</td>\n",
       "      <td>미혼 / 비혼</td>\n",
       "      <td>모름</td>\n",
       "      <td>경북</td>\n",
       "    </tr>\n",
       "    <tr>\n",
       "      <th>100</th>\n",
       "      <td>Y</td>\n",
       "      <td>Y</td>\n",
       "      <td>N</td>\n",
       "      <td>Y</td>\n",
       "      <td>N</td>\n",
       "      <td>Y</td>\n",
       "      <td>Y</td>\n",
       "      <td>Y</td>\n",
       "      <td>N</td>\n",
       "      <td>Y</td>\n",
       "      <td>...</td>\n",
       "      <td>N</td>\n",
       "      <td>N</td>\n",
       "      <td>N</td>\n",
       "      <td>N</td>\n",
       "      <td>Y</td>\n",
       "      <td>F</td>\n",
       "      <td>20</td>\n",
       "      <td>미혼 / 비혼</td>\n",
       "      <td>모름</td>\n",
       "      <td>충남</td>\n",
       "    </tr>\n",
       "    <tr>\n",
       "      <th>121</th>\n",
       "      <td>Y</td>\n",
       "      <td>N</td>\n",
       "      <td>Y</td>\n",
       "      <td>Y</td>\n",
       "      <td>Y</td>\n",
       "      <td>Y</td>\n",
       "      <td>Y</td>\n",
       "      <td>Y</td>\n",
       "      <td>Y</td>\n",
       "      <td>N</td>\n",
       "      <td>...</td>\n",
       "      <td>N</td>\n",
       "      <td>N</td>\n",
       "      <td>N</td>\n",
       "      <td>N</td>\n",
       "      <td>N</td>\n",
       "      <td>F</td>\n",
       "      <td>30</td>\n",
       "      <td>미혼 / 비혼</td>\n",
       "      <td>모름</td>\n",
       "      <td>서울</td>\n",
       "    </tr>\n",
       "    <tr>\n",
       "      <th>...</th>\n",
       "      <td>...</td>\n",
       "      <td>...</td>\n",
       "      <td>...</td>\n",
       "      <td>...</td>\n",
       "      <td>...</td>\n",
       "      <td>...</td>\n",
       "      <td>...</td>\n",
       "      <td>...</td>\n",
       "      <td>...</td>\n",
       "      <td>...</td>\n",
       "      <td>...</td>\n",
       "      <td>...</td>\n",
       "      <td>...</td>\n",
       "      <td>...</td>\n",
       "      <td>...</td>\n",
       "      <td>...</td>\n",
       "      <td>...</td>\n",
       "      <td>...</td>\n",
       "      <td>...</td>\n",
       "      <td>...</td>\n",
       "      <td>...</td>\n",
       "    </tr>\n",
       "    <tr>\n",
       "      <th>68409</th>\n",
       "      <td>Y</td>\n",
       "      <td>Y</td>\n",
       "      <td>Y</td>\n",
       "      <td>Y</td>\n",
       "      <td>Y</td>\n",
       "      <td>Y</td>\n",
       "      <td>Y</td>\n",
       "      <td>Y</td>\n",
       "      <td>Y</td>\n",
       "      <td>Y</td>\n",
       "      <td>...</td>\n",
       "      <td>Y</td>\n",
       "      <td>N</td>\n",
       "      <td>Y</td>\n",
       "      <td>N</td>\n",
       "      <td>Y</td>\n",
       "      <td>F</td>\n",
       "      <td>20</td>\n",
       "      <td>미혼 / 비혼</td>\n",
       "      <td>모름</td>\n",
       "      <td>경기</td>\n",
       "    </tr>\n",
       "    <tr>\n",
       "      <th>68411</th>\n",
       "      <td>N</td>\n",
       "      <td>Y</td>\n",
       "      <td>N</td>\n",
       "      <td>Y</td>\n",
       "      <td>N</td>\n",
       "      <td>N</td>\n",
       "      <td>N</td>\n",
       "      <td>N</td>\n",
       "      <td>N</td>\n",
       "      <td>N</td>\n",
       "      <td>...</td>\n",
       "      <td>N</td>\n",
       "      <td>N</td>\n",
       "      <td>N</td>\n",
       "      <td>N</td>\n",
       "      <td>N</td>\n",
       "      <td>M</td>\n",
       "      <td>20</td>\n",
       "      <td>미혼 / 비혼</td>\n",
       "      <td>모름</td>\n",
       "      <td>경기</td>\n",
       "    </tr>\n",
       "    <tr>\n",
       "      <th>68419</th>\n",
       "      <td>N</td>\n",
       "      <td>N</td>\n",
       "      <td>N</td>\n",
       "      <td>N</td>\n",
       "      <td>N</td>\n",
       "      <td>N</td>\n",
       "      <td>N</td>\n",
       "      <td>N</td>\n",
       "      <td>N</td>\n",
       "      <td>N</td>\n",
       "      <td>...</td>\n",
       "      <td>N</td>\n",
       "      <td>N</td>\n",
       "      <td>N</td>\n",
       "      <td>N</td>\n",
       "      <td>N</td>\n",
       "      <td>M</td>\n",
       "      <td>10</td>\n",
       "      <td>미혼 / 비혼</td>\n",
       "      <td>모름</td>\n",
       "      <td>광주</td>\n",
       "    </tr>\n",
       "    <tr>\n",
       "      <th>68422</th>\n",
       "      <td>Y</td>\n",
       "      <td>Y</td>\n",
       "      <td>Y</td>\n",
       "      <td>N</td>\n",
       "      <td>N</td>\n",
       "      <td>N</td>\n",
       "      <td>Y</td>\n",
       "      <td>Y</td>\n",
       "      <td>N</td>\n",
       "      <td>Y</td>\n",
       "      <td>...</td>\n",
       "      <td>Y</td>\n",
       "      <td>N</td>\n",
       "      <td>N</td>\n",
       "      <td>N</td>\n",
       "      <td>Y</td>\n",
       "      <td>F</td>\n",
       "      <td>20</td>\n",
       "      <td>기혼</td>\n",
       "      <td>모름</td>\n",
       "      <td>대전</td>\n",
       "    </tr>\n",
       "    <tr>\n",
       "      <th>68433</th>\n",
       "      <td>Y</td>\n",
       "      <td>Y</td>\n",
       "      <td>Y</td>\n",
       "      <td>Y</td>\n",
       "      <td>Y</td>\n",
       "      <td>N</td>\n",
       "      <td>Y</td>\n",
       "      <td>Y</td>\n",
       "      <td>N</td>\n",
       "      <td>Y</td>\n",
       "      <td>...</td>\n",
       "      <td>N</td>\n",
       "      <td>N</td>\n",
       "      <td>N</td>\n",
       "      <td>N</td>\n",
       "      <td>Y</td>\n",
       "      <td>M</td>\n",
       "      <td>20</td>\n",
       "      <td>미혼 / 비혼</td>\n",
       "      <td>모름</td>\n",
       "      <td>경기</td>\n",
       "    </tr>\n",
       "  </tbody>\n",
       "</table>\n",
       "<p>4417 rows × 23 columns</p>\n",
       "</div>"
      ],
      "text/plain": [
       "      K-POP_아이돌 게임 사진_촬영 방송_영상 웹툰 검색_포털 금융 예매 여행 음식_주문  ... 전자지갑 청소_가사노동 부동산  \\\n",
       "13            N  N     Y     Y  Y     Y  Y  Y  Y     Y  ...    N       N   N   \n",
       "23            Y  Y     Y     Y  Y     Y  Y  N  Y     Y  ...    Y       N   N   \n",
       "24            Y  Y     Y     Y  Y     Y  Y  Y  Y     Y  ...    Y       N   N   \n",
       "100           Y  Y     N     Y  N     Y  Y  Y  N     Y  ...    N       N   N   \n",
       "121           Y  N     Y     Y  Y     Y  Y  Y  Y     N  ...    N       N   N   \n",
       "...         ... ..   ...   ... ..   ... .. .. ..   ...  ...  ...     ...  ..   \n",
       "68409         Y  Y     Y     Y  Y     Y  Y  Y  Y     Y  ...    Y       N   Y   \n",
       "68411         N  Y     N     Y  N     N  N  N  N     N  ...    N       N   N   \n",
       "68419         N  N     N     N  N     N  N  N  N     N  ...    N       N   N   \n",
       "68422         Y  Y     Y     N  N     N  Y  Y  N     Y  ...    Y       N   N   \n",
       "68433         Y  Y     Y     Y  Y     N  Y  Y  N     Y  ...    N       N   N   \n",
       "\n",
       "      병원_약국_의약품_검색 중고거래 성별  나이       결혼 월_소득  거주지역  \n",
       "13               Y    Y  F  30  미혼 / 비혼   모름    인천  \n",
       "23               N    N  F  20  미혼 / 비혼   모름    충북  \n",
       "24               N    N  F  20  미혼 / 비혼   모름    경북  \n",
       "100              N    Y  F  20  미혼 / 비혼   모름    충남  \n",
       "121              N    N  F  30  미혼 / 비혼   모름    서울  \n",
       "...            ...  ... ..  ..      ...  ...   ...  \n",
       "68409            N    Y  F  20  미혼 / 비혼   모름    경기  \n",
       "68411            N    N  M  20  미혼 / 비혼   모름    경기  \n",
       "68419            N    N  M  10  미혼 / 비혼   모름    광주  \n",
       "68422            N    Y  F  20       기혼   모름    대전  \n",
       "68433            N    Y  M  20  미혼 / 비혼   모름    경기  \n",
       "\n",
       "[4417 rows x 23 columns]"
      ]
     },
     "execution_count": 90,
     "metadata": {},
     "output_type": "execute_result"
    }
   ],
   "source": [
    "df[df['월_소득'] == '모름']"
   ]
  },
  {
   "cell_type": "code",
   "execution_count": 91,
   "id": "4044dd5e-e1b6-431b-b3a6-a31a015c299e",
   "metadata": {},
   "outputs": [],
   "source": [
    "import numpy as np"
   ]
  },
  {
   "cell_type": "code",
   "execution_count": 93,
   "id": "efdb8069-b9de-4403-9aa9-520d64e26d0e",
   "metadata": {},
   "outputs": [],
   "source": [
    "df.replace({'월_소득' : '모름'}, np.nan,inplace=True)"
   ]
  },
  {
   "cell_type": "code",
   "execution_count": 94,
   "id": "2c991cab-3b3c-45ad-ade3-bebf2de3c92e",
   "metadata": {},
   "outputs": [
    {
     "data": {
      "text/plain": [
       "K-POP_아이돌          0\n",
       "게임                 0\n",
       "사진_촬영              0\n",
       "방송_영상              0\n",
       "웹툰                 0\n",
       "검색_포털              0\n",
       "금융                 0\n",
       "예매                 0\n",
       "여행                 0\n",
       "음식_주문              0\n",
       "맛집_추천_예약           0\n",
       "쇼핑                 0\n",
       "헬스                 0\n",
       "전자지갑               0\n",
       "청소_가사노동            0\n",
       "부동산                0\n",
       "병원_약국_의약품_검색       0\n",
       "중고거래               0\n",
       "성별                 0\n",
       "나이                 0\n",
       "결혼                 0\n",
       "월_소득            4417\n",
       "거주지역               0\n",
       "dtype: int64"
      ]
     },
     "execution_count": 94,
     "metadata": {},
     "output_type": "execute_result"
    }
   ],
   "source": [
    "df.isna().sum()"
   ]
  },
  {
   "cell_type": "code",
   "execution_count": 95,
   "id": "2f459d34-0835-481a-958e-698e0cb5bba0",
   "metadata": {},
   "outputs": [],
   "source": [
    "df.dropna(inplace=True)"
   ]
  },
  {
   "cell_type": "code",
   "execution_count": 96,
   "id": "547b68f7-d73c-4c12-84af-ef397195fcd0",
   "metadata": {},
   "outputs": [
    {
     "data": {
      "text/plain": [
       "K-POP_아이돌       0\n",
       "게임              0\n",
       "사진_촬영           0\n",
       "방송_영상           0\n",
       "웹툰              0\n",
       "검색_포털           0\n",
       "금융              0\n",
       "예매              0\n",
       "여행              0\n",
       "음식_주문           0\n",
       "맛집_추천_예약        0\n",
       "쇼핑              0\n",
       "헬스              0\n",
       "전자지갑            0\n",
       "청소_가사노동         0\n",
       "부동산             0\n",
       "병원_약국_의약품_검색    0\n",
       "중고거래            0\n",
       "성별              0\n",
       "나이              0\n",
       "결혼              0\n",
       "월_소득            0\n",
       "거주지역            0\n",
       "dtype: int64"
      ]
     },
     "execution_count": 96,
     "metadata": {},
     "output_type": "execute_result"
    }
   ],
   "source": [
    "df.isna().sum()"
   ]
  },
  {
   "cell_type": "code",
   "execution_count": 97,
   "id": "929020dd-de1f-4edf-8010-0bc580af526a",
   "metadata": {},
   "outputs": [],
   "source": [
    "df.replace({'월_소득' : '100만원 미만'}, '100',inplace=True)"
   ]
  },
  {
   "cell_type": "code",
   "execution_count": 98,
   "id": "5577531a-060e-4e97-8816-efc8243da603",
   "metadata": {},
   "outputs": [],
   "source": [
    "df.replace({'월_소득' : '1,000만원 이상'}, '1000만원',inplace=True)"
   ]
  },
  {
   "cell_type": "code",
   "execution_count": 99,
   "id": "d2750e53-1d42-4ac9-9531-5a4500e6728f",
   "metadata": {},
   "outputs": [
    {
     "data": {
      "text/plain": [
       "array(['600만원', '200만원', '100만원', '400만원', '500만원', '1000만원', '900만원',\n",
       "       '700만원', '800만원', '100', '1,000만원', '300만원'], dtype=object)"
      ]
     },
     "execution_count": 99,
     "metadata": {},
     "output_type": "execute_result"
    }
   ],
   "source": [
    "df['월_소득'].unique()"
   ]
  },
  {
   "cell_type": "code",
   "execution_count": 100,
   "id": "d65de84e-e1de-42e3-bccc-bec1e3bacc73",
   "metadata": {},
   "outputs": [],
   "source": [
    "df['월_소득'] = df['월_소득'].str.replace(',', '')"
   ]
  },
  {
   "cell_type": "code",
   "execution_count": 101,
   "id": "a4ebe5ed-6770-40c5-9af1-4de270029478",
   "metadata": {},
   "outputs": [],
   "source": [
    "df['월_소득'] = df['월_소득'].str.replace('만원','')"
   ]
  },
  {
   "cell_type": "code",
   "execution_count": 102,
   "id": "d2e0aa2d-3c25-441b-860c-387417e4cacb",
   "metadata": {},
   "outputs": [],
   "source": [
    "df['월_소득'] = df['월_소득'].astype(int)"
   ]
  },
  {
   "cell_type": "code",
   "execution_count": 103,
   "id": "3b859534-b1cf-41a9-8c4e-b99535e03be8",
   "metadata": {},
   "outputs": [
    {
     "data": {
      "text/plain": [
       "array([ 600,  200,  100,  400,  500, 1000,  900,  700,  800,  300])"
      ]
     },
     "execution_count": 103,
     "metadata": {},
     "output_type": "execute_result"
    }
   ],
   "source": [
    "df['월_소득'].unique()"
   ]
  },
  {
   "cell_type": "code",
   "execution_count": 104,
   "id": "c537e17f-b658-4abf-9156-f6713d384444",
   "metadata": {},
   "outputs": [
    {
     "data": {
      "text/plain": [
       "array(['미혼 / 비혼', '기혼', '기타(이혼, 사별 등)'], dtype=object)"
      ]
     },
     "execution_count": 104,
     "metadata": {},
     "output_type": "execute_result"
    }
   ],
   "source": [
    "df['결혼'].unique()"
   ]
  },
  {
   "cell_type": "code",
   "execution_count": 105,
   "id": "d91b6106-30b6-4f26-a3b8-fb94ac37860d",
   "metadata": {},
   "outputs": [
    {
     "data": {
      "text/plain": [
       "array(['서울', '경기', '인천', '충남', '경남', '부산', '대구', '울산', '광주', '경북', '전북',\n",
       "       '세종', '제주', '강원', '대전', '충북', '전남'], dtype=object)"
      ]
     },
     "execution_count": 105,
     "metadata": {},
     "output_type": "execute_result"
    }
   ],
   "source": [
    "df['거주지역'].unique()"
   ]
  },
  {
   "cell_type": "code",
   "execution_count": 106,
   "id": "1e21d068-c17f-43c5-950d-12496f082c85",
   "metadata": {},
   "outputs": [],
   "source": [
    "from sklearn.compose import ColumnTransformer\n",
    "from sklearn.preprocessing import OneHotEncoder"
   ]
  },
  {
   "cell_type": "code",
   "execution_count": null,
   "id": "e7c69cbc-f96b-489c-a592-3162b198a632",
   "metadata": {},
   "outputs": [],
   "source": []
  },
  {
   "cell_type": "code",
   "execution_count": 107,
   "id": "b61f910a-4bd9-44db-a593-92c2fa89b4f9",
   "metadata": {},
   "outputs": [
    {
     "data": {
      "text/plain": [
       "Index(['K-POP_아이돌', '게임', '사진_촬영', '방송_영상', '웹툰', '검색_포털', '금융', '예매', '여행',\n",
       "       '음식_주문', '맛집_추천_예약', '쇼핑', '헬스', '전자지갑', '청소_가사노동', '부동산',\n",
       "       '병원_약국_의약품_검색', '중고거래', '성별', '나이', '결혼', '월_소득', '거주지역'],\n",
       "      dtype='object')"
      ]
     },
     "execution_count": 107,
     "metadata": {},
     "output_type": "execute_result"
    }
   ],
   "source": [
    "df.columns"
   ]
  },
  {
   "cell_type": "code",
   "execution_count": 108,
   "id": "0dc512cc-b53d-4ea2-b607-98ba7e7f1d29",
   "metadata": {},
   "outputs": [],
   "source": [
    "from sklearn.preprocessing import LabelEncoder"
   ]
  },
  {
   "cell_type": "code",
   "execution_count": 109,
   "id": "299a0a67-a7cd-450e-88a4-f211e47c5e89",
   "metadata": {},
   "outputs": [],
   "source": [
    "from sklearn.model_selection import train_test_split"
   ]
  },
  {
   "cell_type": "code",
   "execution_count": 110,
   "id": "2b8d303e-6584-4e61-8488-c38116246560",
   "metadata": {},
   "outputs": [],
   "source": [
    "X = df.loc[ : , '성별':'거주지역']"
   ]
  },
  {
   "cell_type": "code",
   "execution_count": 111,
   "id": "92f810d5-2213-417f-aa04-36031687d970",
   "metadata": {},
   "outputs": [],
   "source": [
    "y = df.loc[ : , : '중고거래']"
   ]
  },
  {
   "cell_type": "code",
   "execution_count": 112,
   "id": "b8d9cb30-7cc4-43ea-8302-1b68e0898caa",
   "metadata": {},
   "outputs": [],
   "source": [
    "def convert_binary_labels(y, columns):\n",
    "    y = y.copy()\n",
    "    for col in columns:\n",
    "        y[col] = y[col].map({'N': 0, 'Y': 1})\n",
    "    return y"
   ]
  },
  {
   "cell_type": "code",
   "execution_count": 113,
   "id": "5f5cfbfe-2861-4654-ba07-2119daf80ab8",
   "metadata": {},
   "outputs": [],
   "source": [
    "y = convert_binary_labels(y, ['K-POP_아이돌', '게임', '사진_촬영', '방송_영상', '웹툰', '검색_포털', '금융', '예매', '여행',\n",
    "       '음식_주문', '맛집_추천_예약', '쇼핑', '헬스', '전자지갑', '청소_가사노동', '부동산',\n",
    "       '병원_약국_의약품_검색', '중고거래'])"
   ]
  },
  {
   "cell_type": "code",
   "execution_count": 114,
   "id": "635e97ba-fe94-48f4-87e2-e6b5472d596a",
   "metadata": {},
   "outputs": [
    {
     "data": {
      "text/html": [
       "<div>\n",
       "<style scoped>\n",
       "    .dataframe tbody tr th:only-of-type {\n",
       "        vertical-align: middle;\n",
       "    }\n",
       "\n",
       "    .dataframe tbody tr th {\n",
       "        vertical-align: top;\n",
       "    }\n",
       "\n",
       "    .dataframe thead th {\n",
       "        text-align: right;\n",
       "    }\n",
       "</style>\n",
       "<table border=\"1\" class=\"dataframe\">\n",
       "  <thead>\n",
       "    <tr style=\"text-align: right;\">\n",
       "      <th></th>\n",
       "      <th>K-POP_아이돌</th>\n",
       "      <th>게임</th>\n",
       "      <th>사진_촬영</th>\n",
       "      <th>방송_영상</th>\n",
       "      <th>웹툰</th>\n",
       "      <th>검색_포털</th>\n",
       "      <th>금융</th>\n",
       "      <th>예매</th>\n",
       "      <th>여행</th>\n",
       "      <th>음식_주문</th>\n",
       "      <th>맛집_추천_예약</th>\n",
       "      <th>쇼핑</th>\n",
       "      <th>헬스</th>\n",
       "      <th>전자지갑</th>\n",
       "      <th>청소_가사노동</th>\n",
       "      <th>부동산</th>\n",
       "      <th>병원_약국_의약품_검색</th>\n",
       "      <th>중고거래</th>\n",
       "    </tr>\n",
       "  </thead>\n",
       "  <tbody>\n",
       "    <tr>\n",
       "      <th>0</th>\n",
       "      <td>0</td>\n",
       "      <td>0</td>\n",
       "      <td>1</td>\n",
       "      <td>1</td>\n",
       "      <td>0</td>\n",
       "      <td>0</td>\n",
       "      <td>1</td>\n",
       "      <td>1</td>\n",
       "      <td>0</td>\n",
       "      <td>1</td>\n",
       "      <td>0</td>\n",
       "      <td>0</td>\n",
       "      <td>0</td>\n",
       "      <td>1</td>\n",
       "      <td>0</td>\n",
       "      <td>1</td>\n",
       "      <td>0</td>\n",
       "      <td>0</td>\n",
       "    </tr>\n",
       "    <tr>\n",
       "      <th>1</th>\n",
       "      <td>0</td>\n",
       "      <td>1</td>\n",
       "      <td>1</td>\n",
       "      <td>1</td>\n",
       "      <td>0</td>\n",
       "      <td>0</td>\n",
       "      <td>1</td>\n",
       "      <td>1</td>\n",
       "      <td>1</td>\n",
       "      <td>1</td>\n",
       "      <td>1</td>\n",
       "      <td>1</td>\n",
       "      <td>1</td>\n",
       "      <td>1</td>\n",
       "      <td>0</td>\n",
       "      <td>0</td>\n",
       "      <td>0</td>\n",
       "      <td>0</td>\n",
       "    </tr>\n",
       "    <tr>\n",
       "      <th>2</th>\n",
       "      <td>0</td>\n",
       "      <td>1</td>\n",
       "      <td>1</td>\n",
       "      <td>1</td>\n",
       "      <td>1</td>\n",
       "      <td>1</td>\n",
       "      <td>1</td>\n",
       "      <td>0</td>\n",
       "      <td>0</td>\n",
       "      <td>0</td>\n",
       "      <td>0</td>\n",
       "      <td>0</td>\n",
       "      <td>0</td>\n",
       "      <td>0</td>\n",
       "      <td>0</td>\n",
       "      <td>0</td>\n",
       "      <td>0</td>\n",
       "      <td>0</td>\n",
       "    </tr>\n",
       "    <tr>\n",
       "      <th>3</th>\n",
       "      <td>1</td>\n",
       "      <td>0</td>\n",
       "      <td>0</td>\n",
       "      <td>1</td>\n",
       "      <td>0</td>\n",
       "      <td>1</td>\n",
       "      <td>1</td>\n",
       "      <td>0</td>\n",
       "      <td>0</td>\n",
       "      <td>0</td>\n",
       "      <td>0</td>\n",
       "      <td>1</td>\n",
       "      <td>1</td>\n",
       "      <td>1</td>\n",
       "      <td>0</td>\n",
       "      <td>0</td>\n",
       "      <td>0</td>\n",
       "      <td>0</td>\n",
       "    </tr>\n",
       "    <tr>\n",
       "      <th>4</th>\n",
       "      <td>0</td>\n",
       "      <td>1</td>\n",
       "      <td>1</td>\n",
       "      <td>1</td>\n",
       "      <td>0</td>\n",
       "      <td>1</td>\n",
       "      <td>1</td>\n",
       "      <td>0</td>\n",
       "      <td>1</td>\n",
       "      <td>1</td>\n",
       "      <td>0</td>\n",
       "      <td>1</td>\n",
       "      <td>1</td>\n",
       "      <td>1</td>\n",
       "      <td>0</td>\n",
       "      <td>0</td>\n",
       "      <td>0</td>\n",
       "      <td>1</td>\n",
       "    </tr>\n",
       "    <tr>\n",
       "      <th>...</th>\n",
       "      <td>...</td>\n",
       "      <td>...</td>\n",
       "      <td>...</td>\n",
       "      <td>...</td>\n",
       "      <td>...</td>\n",
       "      <td>...</td>\n",
       "      <td>...</td>\n",
       "      <td>...</td>\n",
       "      <td>...</td>\n",
       "      <td>...</td>\n",
       "      <td>...</td>\n",
       "      <td>...</td>\n",
       "      <td>...</td>\n",
       "      <td>...</td>\n",
       "      <td>...</td>\n",
       "      <td>...</td>\n",
       "      <td>...</td>\n",
       "      <td>...</td>\n",
       "    </tr>\n",
       "    <tr>\n",
       "      <th>68436</th>\n",
       "      <td>0</td>\n",
       "      <td>0</td>\n",
       "      <td>0</td>\n",
       "      <td>0</td>\n",
       "      <td>0</td>\n",
       "      <td>0</td>\n",
       "      <td>0</td>\n",
       "      <td>0</td>\n",
       "      <td>0</td>\n",
       "      <td>0</td>\n",
       "      <td>0</td>\n",
       "      <td>0</td>\n",
       "      <td>0</td>\n",
       "      <td>0</td>\n",
       "      <td>0</td>\n",
       "      <td>0</td>\n",
       "      <td>0</td>\n",
       "      <td>0</td>\n",
       "    </tr>\n",
       "    <tr>\n",
       "      <th>68437</th>\n",
       "      <td>0</td>\n",
       "      <td>0</td>\n",
       "      <td>0</td>\n",
       "      <td>0</td>\n",
       "      <td>0</td>\n",
       "      <td>0</td>\n",
       "      <td>0</td>\n",
       "      <td>0</td>\n",
       "      <td>0</td>\n",
       "      <td>0</td>\n",
       "      <td>0</td>\n",
       "      <td>0</td>\n",
       "      <td>0</td>\n",
       "      <td>0</td>\n",
       "      <td>0</td>\n",
       "      <td>0</td>\n",
       "      <td>0</td>\n",
       "      <td>0</td>\n",
       "    </tr>\n",
       "    <tr>\n",
       "      <th>68438</th>\n",
       "      <td>0</td>\n",
       "      <td>0</td>\n",
       "      <td>1</td>\n",
       "      <td>1</td>\n",
       "      <td>0</td>\n",
       "      <td>1</td>\n",
       "      <td>1</td>\n",
       "      <td>0</td>\n",
       "      <td>0</td>\n",
       "      <td>0</td>\n",
       "      <td>1</td>\n",
       "      <td>0</td>\n",
       "      <td>0</td>\n",
       "      <td>1</td>\n",
       "      <td>0</td>\n",
       "      <td>0</td>\n",
       "      <td>0</td>\n",
       "      <td>1</td>\n",
       "    </tr>\n",
       "    <tr>\n",
       "      <th>68439</th>\n",
       "      <td>0</td>\n",
       "      <td>0</td>\n",
       "      <td>0</td>\n",
       "      <td>0</td>\n",
       "      <td>0</td>\n",
       "      <td>0</td>\n",
       "      <td>0</td>\n",
       "      <td>0</td>\n",
       "      <td>0</td>\n",
       "      <td>0</td>\n",
       "      <td>0</td>\n",
       "      <td>0</td>\n",
       "      <td>0</td>\n",
       "      <td>0</td>\n",
       "      <td>0</td>\n",
       "      <td>0</td>\n",
       "      <td>0</td>\n",
       "      <td>0</td>\n",
       "    </tr>\n",
       "    <tr>\n",
       "      <th>68440</th>\n",
       "      <td>0</td>\n",
       "      <td>0</td>\n",
       "      <td>1</td>\n",
       "      <td>1</td>\n",
       "      <td>0</td>\n",
       "      <td>0</td>\n",
       "      <td>1</td>\n",
       "      <td>0</td>\n",
       "      <td>0</td>\n",
       "      <td>0</td>\n",
       "      <td>0</td>\n",
       "      <td>0</td>\n",
       "      <td>0</td>\n",
       "      <td>0</td>\n",
       "      <td>0</td>\n",
       "      <td>1</td>\n",
       "      <td>0</td>\n",
       "      <td>1</td>\n",
       "    </tr>\n",
       "  </tbody>\n",
       "</table>\n",
       "<p>64024 rows × 18 columns</p>\n",
       "</div>"
      ],
      "text/plain": [
       "       K-POP_아이돌  게임  사진_촬영  방송_영상  웹툰  검색_포털  금융  예매  여행  음식_주문  맛집_추천_예약  \\\n",
       "0              0   0      1      1   0      0   1   1   0      1         0   \n",
       "1              0   1      1      1   0      0   1   1   1      1         1   \n",
       "2              0   1      1      1   1      1   1   0   0      0         0   \n",
       "3              1   0      0      1   0      1   1   0   0      0         0   \n",
       "4              0   1      1      1   0      1   1   0   1      1         0   \n",
       "...          ...  ..    ...    ...  ..    ...  ..  ..  ..    ...       ...   \n",
       "68436          0   0      0      0   0      0   0   0   0      0         0   \n",
       "68437          0   0      0      0   0      0   0   0   0      0         0   \n",
       "68438          0   0      1      1   0      1   1   0   0      0         1   \n",
       "68439          0   0      0      0   0      0   0   0   0      0         0   \n",
       "68440          0   0      1      1   0      0   1   0   0      0         0   \n",
       "\n",
       "       쇼핑  헬스  전자지갑  청소_가사노동  부동산  병원_약국_의약품_검색  중고거래  \n",
       "0       0   0     1        0    1             0     0  \n",
       "1       1   1     1        0    0             0     0  \n",
       "2       0   0     0        0    0             0     0  \n",
       "3       1   1     1        0    0             0     0  \n",
       "4       1   1     1        0    0             0     1  \n",
       "...    ..  ..   ...      ...  ...           ...   ...  \n",
       "68436   0   0     0        0    0             0     0  \n",
       "68437   0   0     0        0    0             0     0  \n",
       "68438   0   0     1        0    0             0     1  \n",
       "68439   0   0     0        0    0             0     0  \n",
       "68440   0   0     0        0    1             0     1  \n",
       "\n",
       "[64024 rows x 18 columns]"
      ]
     },
     "execution_count": 114,
     "metadata": {},
     "output_type": "execute_result"
    }
   ],
   "source": [
    "y"
   ]
  },
  {
   "cell_type": "code",
   "execution_count": 115,
   "id": "7d7d13d0-9fd5-498f-8136-0480568c1ca3",
   "metadata": {},
   "outputs": [
    {
     "data": {
      "text/plain": [
       "K-POP_아이돌       15473\n",
       "게임              20326\n",
       "사진_촬영           35735\n",
       "방송_영상           35400\n",
       "웹툰              15408\n",
       "검색_포털           32030\n",
       "금융              36799\n",
       "예매              14823\n",
       "여행              17737\n",
       "음식_주문           27242\n",
       "맛집_추천_예약         8726\n",
       "쇼핑              29408\n",
       "헬스              10452\n",
       "전자지갑            21991\n",
       "청소_가사노동          1240\n",
       "부동산              6603\n",
       "병원_약국_의약품_검색     8920\n",
       "중고거래            22267\n",
       "dtype: int64"
      ]
     },
     "execution_count": 115,
     "metadata": {},
     "output_type": "execute_result"
    }
   ],
   "source": [
    "y.sum()"
   ]
  },
  {
   "cell_type": "code",
   "execution_count": 116,
   "id": "927727ac-95a5-4e23-9354-28dd108faa19",
   "metadata": {},
   "outputs": [
    {
     "data": {
      "text/plain": [
       "360580"
      ]
     },
     "execution_count": 116,
     "metadata": {},
     "output_type": "execute_result"
    }
   ],
   "source": [
    "y.sum().sum()"
   ]
  },
  {
   "cell_type": "code",
   "execution_count": 117,
   "id": "0bcc70a1-3e74-445b-a5be-f83cac50332e",
   "metadata": {},
   "outputs": [
    {
     "data": {
      "text/html": [
       "<div>\n",
       "<style scoped>\n",
       "    .dataframe tbody tr th:only-of-type {\n",
       "        vertical-align: middle;\n",
       "    }\n",
       "\n",
       "    .dataframe tbody tr th {\n",
       "        vertical-align: top;\n",
       "    }\n",
       "\n",
       "    .dataframe thead th {\n",
       "        text-align: right;\n",
       "    }\n",
       "</style>\n",
       "<table border=\"1\" class=\"dataframe\">\n",
       "  <thead>\n",
       "    <tr style=\"text-align: right;\">\n",
       "      <th></th>\n",
       "      <th>성별</th>\n",
       "      <th>나이</th>\n",
       "      <th>결혼</th>\n",
       "      <th>월_소득</th>\n",
       "      <th>거주지역</th>\n",
       "    </tr>\n",
       "  </thead>\n",
       "  <tbody>\n",
       "    <tr>\n",
       "      <th>0</th>\n",
       "      <td>F</td>\n",
       "      <td>30</td>\n",
       "      <td>미혼 / 비혼</td>\n",
       "      <td>600</td>\n",
       "      <td>서울</td>\n",
       "    </tr>\n",
       "    <tr>\n",
       "      <th>1</th>\n",
       "      <td>M</td>\n",
       "      <td>40</td>\n",
       "      <td>기혼</td>\n",
       "      <td>600</td>\n",
       "      <td>경기</td>\n",
       "    </tr>\n",
       "    <tr>\n",
       "      <th>2</th>\n",
       "      <td>F</td>\n",
       "      <td>20</td>\n",
       "      <td>미혼 / 비혼</td>\n",
       "      <td>200</td>\n",
       "      <td>인천</td>\n",
       "    </tr>\n",
       "    <tr>\n",
       "      <th>3</th>\n",
       "      <td>M</td>\n",
       "      <td>50</td>\n",
       "      <td>기타(이혼, 사별 등)</td>\n",
       "      <td>100</td>\n",
       "      <td>경기</td>\n",
       "    </tr>\n",
       "    <tr>\n",
       "      <th>4</th>\n",
       "      <td>M</td>\n",
       "      <td>30</td>\n",
       "      <td>미혼 / 비혼</td>\n",
       "      <td>400</td>\n",
       "      <td>경기</td>\n",
       "    </tr>\n",
       "    <tr>\n",
       "      <th>...</th>\n",
       "      <td>...</td>\n",
       "      <td>...</td>\n",
       "      <td>...</td>\n",
       "      <td>...</td>\n",
       "      <td>...</td>\n",
       "    </tr>\n",
       "    <tr>\n",
       "      <th>68436</th>\n",
       "      <td>F</td>\n",
       "      <td>30</td>\n",
       "      <td>기타(이혼, 사별 등)</td>\n",
       "      <td>500</td>\n",
       "      <td>충남</td>\n",
       "    </tr>\n",
       "    <tr>\n",
       "      <th>68437</th>\n",
       "      <td>F</td>\n",
       "      <td>20</td>\n",
       "      <td>미혼 / 비혼</td>\n",
       "      <td>100</td>\n",
       "      <td>서울</td>\n",
       "    </tr>\n",
       "    <tr>\n",
       "      <th>68438</th>\n",
       "      <td>F</td>\n",
       "      <td>60</td>\n",
       "      <td>기혼</td>\n",
       "      <td>300</td>\n",
       "      <td>경기</td>\n",
       "    </tr>\n",
       "    <tr>\n",
       "      <th>68439</th>\n",
       "      <td>M</td>\n",
       "      <td>30</td>\n",
       "      <td>미혼 / 비혼</td>\n",
       "      <td>300</td>\n",
       "      <td>경남</td>\n",
       "    </tr>\n",
       "    <tr>\n",
       "      <th>68440</th>\n",
       "      <td>M</td>\n",
       "      <td>30</td>\n",
       "      <td>기혼</td>\n",
       "      <td>600</td>\n",
       "      <td>경기</td>\n",
       "    </tr>\n",
       "  </tbody>\n",
       "</table>\n",
       "<p>64024 rows × 5 columns</p>\n",
       "</div>"
      ],
      "text/plain": [
       "      성별  나이            결혼  월_소득 거주지역\n",
       "0      F  30       미혼 / 비혼   600   서울\n",
       "1      M  40            기혼   600   경기\n",
       "2      F  20       미혼 / 비혼   200   인천\n",
       "3      M  50  기타(이혼, 사별 등)   100   경기\n",
       "4      M  30       미혼 / 비혼   400   경기\n",
       "...   ..  ..           ...   ...  ...\n",
       "68436  F  30  기타(이혼, 사별 등)   500   충남\n",
       "68437  F  20       미혼 / 비혼   100   서울\n",
       "68438  F  60            기혼   300   경기\n",
       "68439  M  30       미혼 / 비혼   300   경남\n",
       "68440  M  30            기혼   600   경기\n",
       "\n",
       "[64024 rows x 5 columns]"
      ]
     },
     "execution_count": 117,
     "metadata": {},
     "output_type": "execute_result"
    }
   ],
   "source": [
    "X"
   ]
  },
  {
   "cell_type": "code",
   "execution_count": 118,
   "id": "e5e1a3fd-298f-4875-acf0-1d5b9279ee37",
   "metadata": {},
   "outputs": [
    {
     "data": {
      "text/plain": [
       "17"
      ]
     },
     "execution_count": 118,
     "metadata": {},
     "output_type": "execute_result"
    }
   ],
   "source": [
    "X['거주지역'].nunique()"
   ]
  },
  {
   "cell_type": "code",
   "execution_count": 119,
   "id": "a083d2d9-4325-4cc9-99eb-5ad4911df766",
   "metadata": {},
   "outputs": [
    {
     "data": {
      "text/plain": [
       "['F', 'M']"
      ]
     },
     "execution_count": 119,
     "metadata": {},
     "output_type": "execute_result"
    }
   ],
   "source": [
    "sorted(X['성별'].unique())"
   ]
  },
  {
   "cell_type": "code",
   "execution_count": 120,
   "id": "7bbf9216-1ba8-4e3f-9ac6-6857710fbf94",
   "metadata": {},
   "outputs": [],
   "source": [
    "X_label_encoder= LabelEncoder()\n",
    "X['성별'] = X_label_encoder.fit_transform(X['성별'])"
   ]
  },
  {
   "cell_type": "code",
   "execution_count": null,
   "id": "d75dec93-96c5-4a5a-bd38-80efdbdd79b8",
   "metadata": {},
   "outputs": [],
   "source": []
  },
  {
   "cell_type": "code",
   "execution_count": 121,
   "id": "ed25ba88-43a9-46c0-a629-a06f209f2fe0",
   "metadata": {},
   "outputs": [],
   "source": [
    "onehot_encoder = OneHotEncoder()"
   ]
  },
  {
   "cell_type": "code",
   "execution_count": 122,
   "id": "a4404cee-f1ad-4194-a4f2-f3df68ca3dec",
   "metadata": {},
   "outputs": [],
   "source": [
    "ct = ColumnTransformer(transformers=[ ('onehot', onehot_encoder, ['결혼', '거주지역'] ) ], remainder='passthrough')"
   ]
  },
  {
   "cell_type": "code",
   "execution_count": 123,
   "id": "35e3e62b-a006-486b-8aaa-450552dbab2d",
   "metadata": {},
   "outputs": [],
   "source": [
    "X_encoded = ct.fit_transform(X)"
   ]
  },
  {
   "cell_type": "code",
   "execution_count": 124,
   "id": "f911ffcf-1f09-4f21-a3eb-258655f8bce7",
   "metadata": {},
   "outputs": [
    {
     "data": {
      "text/plain": [
       "<64024x23 sparse matrix of type '<class 'numpy.float64'>'\n",
       "\twith 291327 stored elements in Compressed Sparse Row format>"
      ]
     },
     "execution_count": 124,
     "metadata": {},
     "output_type": "execute_result"
    }
   ],
   "source": [
    "X_encoded"
   ]
  },
  {
   "cell_type": "code",
   "execution_count": null,
   "id": "d2bf5ca6-1f3f-4369-a54e-06af80615f42",
   "metadata": {},
   "outputs": [],
   "source": []
  },
  {
   "cell_type": "code",
   "execution_count": 125,
   "id": "34bd01ad-6a03-48b8-87d6-9bb4e16cc112",
   "metadata": {},
   "outputs": [
    {
     "name": "stdout",
     "output_type": "stream",
     "text": [
      "<class 'pandas.core.frame.DataFrame'>\n",
      "Index: 64024 entries, 0 to 68440\n",
      "Data columns (total 18 columns):\n",
      " #   Column        Non-Null Count  Dtype\n",
      "---  ------        --------------  -----\n",
      " 0   K-POP_아이돌     64024 non-null  int64\n",
      " 1   게임            64024 non-null  int64\n",
      " 2   사진_촬영         64024 non-null  int64\n",
      " 3   방송_영상         64024 non-null  int64\n",
      " 4   웹툰            64024 non-null  int64\n",
      " 5   검색_포털         64024 non-null  int64\n",
      " 6   금융            64024 non-null  int64\n",
      " 7   예매            64024 non-null  int64\n",
      " 8   여행            64024 non-null  int64\n",
      " 9   음식_주문         64024 non-null  int64\n",
      " 10  맛집_추천_예약      64024 non-null  int64\n",
      " 11  쇼핑            64024 non-null  int64\n",
      " 12  헬스            64024 non-null  int64\n",
      " 13  전자지갑          64024 non-null  int64\n",
      " 14  청소_가사노동       64024 non-null  int64\n",
      " 15  부동산           64024 non-null  int64\n",
      " 16  병원_약국_의약품_검색  64024 non-null  int64\n",
      " 17  중고거래          64024 non-null  int64\n",
      "dtypes: int64(18)\n",
      "memory usage: 9.3 MB\n"
     ]
    }
   ],
   "source": [
    "y.info()"
   ]
  },
  {
   "cell_type": "code",
   "execution_count": 126,
   "id": "56531405-821f-41fd-9f33-bbba93bd4272",
   "metadata": {},
   "outputs": [
    {
     "ename": "NameError",
     "evalue": "name 'y_train' is not defined",
     "output_type": "error",
     "traceback": [
      "\u001b[1;31m---------------------------------------------------------------------------\u001b[0m",
      "\u001b[1;31mNameError\u001b[0m                                 Traceback (most recent call last)",
      "Cell \u001b[1;32mIn[126], line 1\u001b[0m\n\u001b[1;32m----> 1\u001b[0m y_train\u001b[38;5;241m.\u001b[39mshape\n",
      "\u001b[1;31mNameError\u001b[0m: name 'y_train' is not defined"
     ]
    }
   ],
   "source": [
    "y_train.shape"
   ]
  },
  {
   "cell_type": "code",
   "execution_count": 127,
   "id": "c7b89e20-4da6-4c2a-be33-e6ae4846c130",
   "metadata": {},
   "outputs": [
    {
     "ename": "NameError",
     "evalue": "name 'y_train' is not defined",
     "output_type": "error",
     "traceback": [
      "\u001b[1;31m---------------------------------------------------------------------------\u001b[0m",
      "\u001b[1;31mNameError\u001b[0m                                 Traceback (most recent call last)",
      "Cell \u001b[1;32mIn[127], line 1\u001b[0m\n\u001b[1;32m----> 1\u001b[0m y_train\u001b[38;5;241m.\u001b[39msum()\n",
      "\u001b[1;31mNameError\u001b[0m: name 'y_train' is not defined"
     ]
    }
   ],
   "source": [
    "y_train.sum()"
   ]
  },
  {
   "cell_type": "code",
   "execution_count": 128,
   "id": "854744cf-17dc-446e-bb25-a668965a4d5e",
   "metadata": {},
   "outputs": [
    {
     "ename": "NameError",
     "evalue": "name 'y_train' is not defined",
     "output_type": "error",
     "traceback": [
      "\u001b[1;31m---------------------------------------------------------------------------\u001b[0m",
      "\u001b[1;31mNameError\u001b[0m                                 Traceback (most recent call last)",
      "Cell \u001b[1;32mIn[128], line 1\u001b[0m\n\u001b[1;32m----> 1\u001b[0m y_train\u001b[38;5;241m.\u001b[39mshape[\u001b[38;5;241m0\u001b[39m] \u001b[38;5;241m-\u001b[39m y_train\u001b[38;5;241m.\u001b[39msum()\n",
      "\u001b[1;31mNameError\u001b[0m: name 'y_train' is not defined"
     ]
    }
   ],
   "source": [
    "y_train.shape[0] - y_train.sum()"
   ]
  },
  {
   "cell_type": "code",
   "execution_count": 129,
   "id": "76df8dac-164b-46a4-a442-ed0003dfa103",
   "metadata": {},
   "outputs": [],
   "source": [
    "class_weights = {\n",
    "    'K-POP_아이돌': 4.125966660938306,\n",
    "    '게임': 3.1545132045723294,\n",
    "    '사진_촬영': 1.7839283724040569,\n",
    "    '방송_영상': 1.8040350152158395,\n",
    "    '웹툰': 4.175841377511088,\n",
    "    '검색_포털': 1.9848710317460319,\n",
    "    '금융': 1.7344410330503883,\n",
    "    '예매': 4.302302661051877,\n",
    "    '여행': 3.6033318325078794,\n",
    "    '음식_주문': 2.3481832852462223,\n",
    "    '맛집_추천_예약': 7.339957199633139,\n",
    "    '쇼핑': 2.1640452476452294,\n",
    "    '헬스': 6.067475360121304,\n",
    "    '전자지갑': 2.9040217719987904,\n",
    "    '청소_가사노동': 50.333333333333336,\n",
    "    '부동산': 9.661569416498994,\n",
    "    '병원_약국_의약품_검색': 7.1465991963089746,\n",
    "    '중고거래': 2.8634981215337825\n",
    "}"
   ]
  },
  {
   "cell_type": "code",
   "execution_count": null,
   "id": "95816c57-ebe2-4493-81f4-0090167e0d12",
   "metadata": {},
   "outputs": [],
   "source": []
  },
  {
   "cell_type": "code",
   "execution_count": null,
   "id": "ce2ec3df-c6da-4dd3-ae2f-a85cd10943f5",
   "metadata": {},
   "outputs": [],
   "source": []
  },
  {
   "cell_type": "code",
   "execution_count": 130,
   "id": "e008332a-efd3-4ed0-ad83-75f8cfc77186",
   "metadata": {},
   "outputs": [],
   "source": [
    "X_train, X_test, y_train, y_test = train_test_split(X_encoded, y, test_size=0.25, random_state=17)"
   ]
  },
  {
   "cell_type": "code",
   "execution_count": 131,
   "id": "2560e11d-b3a6-4eb9-9214-1f74700df15f",
   "metadata": {},
   "outputs": [],
   "source": [
    "from sklearn.ensemble import RandomForestClassifier"
   ]
  },
  {
   "cell_type": "code",
   "execution_count": 132,
   "id": "4dc5699b-c987-4983-9065-0b1567a5423d",
   "metadata": {},
   "outputs": [],
   "source": [
    "model = RandomForestClassifier(class_weight= class_weights)"
   ]
  },
  {
   "cell_type": "code",
   "execution_count": 133,
   "id": "31b12d60-f3c9-40d6-b691-07b478736109",
   "metadata": {},
   "outputs": [
    {
     "ename": "ValueError",
     "evalue": "For multi-output, class_weight should be a list of dicts, or a valid string.",
     "output_type": "error",
     "traceback": [
      "\u001b[1;31m---------------------------------------------------------------------------\u001b[0m",
      "\u001b[1;31mValueError\u001b[0m                                Traceback (most recent call last)",
      "Cell \u001b[1;32mIn[133], line 1\u001b[0m\n\u001b[1;32m----> 1\u001b[0m model\u001b[38;5;241m.\u001b[39mfit(X_train,y_train)\n",
      "File \u001b[1;32mD:\\Programfile\\Anaconda\\Lib\\site-packages\\sklearn\\ensemble\\_forest.py:385\u001b[0m, in \u001b[0;36mBaseForest.fit\u001b[1;34m(self, X, y, sample_weight)\u001b[0m\n\u001b[0;32m    378\u001b[0m         \u001b[38;5;28;01mraise\u001b[39;00m \u001b[38;5;167;01mValueError\u001b[39;00m(\n\u001b[0;32m    379\u001b[0m             \u001b[38;5;124m\"\u001b[39m\u001b[38;5;124mSum of y is not strictly positive which \u001b[39m\u001b[38;5;124m\"\u001b[39m\n\u001b[0;32m    380\u001b[0m             \u001b[38;5;124m\"\u001b[39m\u001b[38;5;124mis necessary for Poisson regression.\u001b[39m\u001b[38;5;124m\"\u001b[39m\n\u001b[0;32m    381\u001b[0m         )\n\u001b[0;32m    383\u001b[0m \u001b[38;5;28mself\u001b[39m\u001b[38;5;241m.\u001b[39mn_outputs_ \u001b[38;5;241m=\u001b[39m y\u001b[38;5;241m.\u001b[39mshape[\u001b[38;5;241m1\u001b[39m]\n\u001b[1;32m--> 385\u001b[0m y, expanded_class_weight \u001b[38;5;241m=\u001b[39m \u001b[38;5;28mself\u001b[39m\u001b[38;5;241m.\u001b[39m_validate_y_class_weight(y)\n\u001b[0;32m    387\u001b[0m \u001b[38;5;28;01mif\u001b[39;00m \u001b[38;5;28mgetattr\u001b[39m(y, \u001b[38;5;124m\"\u001b[39m\u001b[38;5;124mdtype\u001b[39m\u001b[38;5;124m\"\u001b[39m, \u001b[38;5;28;01mNone\u001b[39;00m) \u001b[38;5;241m!=\u001b[39m DOUBLE \u001b[38;5;129;01mor\u001b[39;00m \u001b[38;5;129;01mnot\u001b[39;00m y\u001b[38;5;241m.\u001b[39mflags\u001b[38;5;241m.\u001b[39mcontiguous:\n\u001b[0;32m    388\u001b[0m     y \u001b[38;5;241m=\u001b[39m np\u001b[38;5;241m.\u001b[39mascontiguousarray(y, dtype\u001b[38;5;241m=\u001b[39mDOUBLE)\n",
      "File \u001b[1;32mD:\\Programfile\\Anaconda\\Lib\\site-packages\\sklearn\\ensemble\\_forest.py:795\u001b[0m, in \u001b[0;36mForestClassifier._validate_y_class_weight\u001b[1;34m(self, y)\u001b[0m\n\u001b[0;32m    793\u001b[0m         \u001b[38;5;28;01melse\u001b[39;00m:\n\u001b[0;32m    794\u001b[0m             class_weight \u001b[38;5;241m=\u001b[39m \u001b[38;5;28mself\u001b[39m\u001b[38;5;241m.\u001b[39mclass_weight\n\u001b[1;32m--> 795\u001b[0m         expanded_class_weight \u001b[38;5;241m=\u001b[39m compute_sample_weight(class_weight, y_original)\n\u001b[0;32m    797\u001b[0m \u001b[38;5;28;01mreturn\u001b[39;00m y, expanded_class_weight\n",
      "File \u001b[1;32mD:\\Programfile\\Anaconda\\Lib\\site-packages\\sklearn\\utils\\class_weight.py:138\u001b[0m, in \u001b[0;36mcompute_sample_weight\u001b[1;34m(class_weight, y, indices)\u001b[0m\n\u001b[0;32m    136\u001b[0m \u001b[38;5;28;01melif\u001b[39;00m n_outputs \u001b[38;5;241m>\u001b[39m \u001b[38;5;241m1\u001b[39m:\n\u001b[0;32m    137\u001b[0m     \u001b[38;5;28;01mif\u001b[39;00m \u001b[38;5;129;01mnot\u001b[39;00m \u001b[38;5;28mhasattr\u001b[39m(class_weight, \u001b[38;5;124m\"\u001b[39m\u001b[38;5;124m__iter__\u001b[39m\u001b[38;5;124m\"\u001b[39m) \u001b[38;5;129;01mor\u001b[39;00m \u001b[38;5;28misinstance\u001b[39m(class_weight, \u001b[38;5;28mdict\u001b[39m):\n\u001b[1;32m--> 138\u001b[0m         \u001b[38;5;28;01mraise\u001b[39;00m \u001b[38;5;167;01mValueError\u001b[39;00m(\n\u001b[0;32m    139\u001b[0m             \u001b[38;5;124m\"\u001b[39m\u001b[38;5;124mFor multi-output, class_weight should be a \u001b[39m\u001b[38;5;124m\"\u001b[39m\n\u001b[0;32m    140\u001b[0m             \u001b[38;5;124m\"\u001b[39m\u001b[38;5;124mlist of dicts, or a valid string.\u001b[39m\u001b[38;5;124m\"\u001b[39m\n\u001b[0;32m    141\u001b[0m         )\n\u001b[0;32m    142\u001b[0m     \u001b[38;5;28;01mif\u001b[39;00m \u001b[38;5;28mlen\u001b[39m(class_weight) \u001b[38;5;241m!=\u001b[39m n_outputs:\n\u001b[0;32m    143\u001b[0m         \u001b[38;5;28;01mraise\u001b[39;00m \u001b[38;5;167;01mValueError\u001b[39;00m(\n\u001b[0;32m    144\u001b[0m             \u001b[38;5;124m\"\u001b[39m\u001b[38;5;124mFor multi-output, number of elements in \u001b[39m\u001b[38;5;124m\"\u001b[39m\n\u001b[0;32m    145\u001b[0m             \u001b[38;5;124m\"\u001b[39m\u001b[38;5;124mclass_weight should match number of outputs.\u001b[39m\u001b[38;5;124m\"\u001b[39m\n\u001b[0;32m    146\u001b[0m         )\n",
      "\u001b[1;31mValueError\u001b[0m: For multi-output, class_weight should be a list of dicts, or a valid string."
     ]
    }
   ],
   "source": [
    "model.fit(X_train,y_train)"
   ]
  },
  {
   "cell_type": "code",
   "execution_count": 134,
   "id": "ce07313a-f40b-441f-bed7-93c366488a75",
   "metadata": {},
   "outputs": [
    {
     "ename": "AttributeError",
     "evalue": "'RandomForestClassifier' object has no attribute 'estimators_'",
     "output_type": "error",
     "traceback": [
      "\u001b[1;31m---------------------------------------------------------------------------\u001b[0m",
      "\u001b[1;31mAttributeError\u001b[0m                            Traceback (most recent call last)",
      "Cell \u001b[1;32mIn[134], line 1\u001b[0m\n\u001b[1;32m----> 1\u001b[0m y_pred \u001b[38;5;241m=\u001b[39m model\u001b[38;5;241m.\u001b[39mpredict(X_test)\n",
      "File \u001b[1;32mD:\\Programfile\\Anaconda\\Lib\\site-packages\\sklearn\\ensemble\\_forest.py:820\u001b[0m, in \u001b[0;36mForestClassifier.predict\u001b[1;34m(self, X)\u001b[0m\n\u001b[0;32m    799\u001b[0m \u001b[38;5;28;01mdef\u001b[39;00m \u001b[38;5;21mpredict\u001b[39m(\u001b[38;5;28mself\u001b[39m, X):\n\u001b[0;32m    800\u001b[0m \u001b[38;5;250m    \u001b[39m\u001b[38;5;124;03m\"\"\"\u001b[39;00m\n\u001b[0;32m    801\u001b[0m \u001b[38;5;124;03m    Predict class for X.\u001b[39;00m\n\u001b[0;32m    802\u001b[0m \n\u001b[1;32m   (...)\u001b[0m\n\u001b[0;32m    818\u001b[0m \u001b[38;5;124;03m        The predicted classes.\u001b[39;00m\n\u001b[0;32m    819\u001b[0m \u001b[38;5;124;03m    \"\"\"\u001b[39;00m\n\u001b[1;32m--> 820\u001b[0m     proba \u001b[38;5;241m=\u001b[39m \u001b[38;5;28mself\u001b[39m\u001b[38;5;241m.\u001b[39mpredict_proba(X)\n\u001b[0;32m    822\u001b[0m     \u001b[38;5;28;01mif\u001b[39;00m \u001b[38;5;28mself\u001b[39m\u001b[38;5;241m.\u001b[39mn_outputs_ \u001b[38;5;241m==\u001b[39m \u001b[38;5;241m1\u001b[39m:\n\u001b[0;32m    823\u001b[0m         \u001b[38;5;28;01mreturn\u001b[39;00m \u001b[38;5;28mself\u001b[39m\u001b[38;5;241m.\u001b[39mclasses_\u001b[38;5;241m.\u001b[39mtake(np\u001b[38;5;241m.\u001b[39margmax(proba, axis\u001b[38;5;241m=\u001b[39m\u001b[38;5;241m1\u001b[39m), axis\u001b[38;5;241m=\u001b[39m\u001b[38;5;241m0\u001b[39m)\n",
      "File \u001b[1;32mD:\\Programfile\\Anaconda\\Lib\\site-packages\\sklearn\\ensemble\\_forest.py:875\u001b[0m, in \u001b[0;36mForestClassifier.predict_proba\u001b[1;34m(self, X)\u001b[0m\n\u001b[0;32m    868\u001b[0m all_proba \u001b[38;5;241m=\u001b[39m [\n\u001b[0;32m    869\u001b[0m     np\u001b[38;5;241m.\u001b[39mzeros((X\u001b[38;5;241m.\u001b[39mshape[\u001b[38;5;241m0\u001b[39m], j), dtype\u001b[38;5;241m=\u001b[39mnp\u001b[38;5;241m.\u001b[39mfloat64)\n\u001b[0;32m    870\u001b[0m     \u001b[38;5;28;01mfor\u001b[39;00m j \u001b[38;5;129;01min\u001b[39;00m np\u001b[38;5;241m.\u001b[39matleast_1d(\u001b[38;5;28mself\u001b[39m\u001b[38;5;241m.\u001b[39mn_classes_)\n\u001b[0;32m    871\u001b[0m ]\n\u001b[0;32m    872\u001b[0m lock \u001b[38;5;241m=\u001b[39m threading\u001b[38;5;241m.\u001b[39mLock()\n\u001b[0;32m    873\u001b[0m Parallel(n_jobs\u001b[38;5;241m=\u001b[39mn_jobs, verbose\u001b[38;5;241m=\u001b[39m\u001b[38;5;28mself\u001b[39m\u001b[38;5;241m.\u001b[39mverbose, require\u001b[38;5;241m=\u001b[39m\u001b[38;5;124m\"\u001b[39m\u001b[38;5;124msharedmem\u001b[39m\u001b[38;5;124m\"\u001b[39m)(\n\u001b[0;32m    874\u001b[0m     delayed(_accumulate_prediction)(e\u001b[38;5;241m.\u001b[39mpredict_proba, X, all_proba, lock)\n\u001b[1;32m--> 875\u001b[0m     \u001b[38;5;28;01mfor\u001b[39;00m e \u001b[38;5;129;01min\u001b[39;00m \u001b[38;5;28mself\u001b[39m\u001b[38;5;241m.\u001b[39mestimators_\n\u001b[0;32m    876\u001b[0m )\n\u001b[0;32m    878\u001b[0m \u001b[38;5;28;01mfor\u001b[39;00m proba \u001b[38;5;129;01min\u001b[39;00m all_proba:\n\u001b[0;32m    879\u001b[0m     proba \u001b[38;5;241m/\u001b[39m\u001b[38;5;241m=\u001b[39m \u001b[38;5;28mlen\u001b[39m(\u001b[38;5;28mself\u001b[39m\u001b[38;5;241m.\u001b[39mestimators_)\n",
      "\u001b[1;31mAttributeError\u001b[0m: 'RandomForestClassifier' object has no attribute 'estimators_'"
     ]
    }
   ],
   "source": [
    "y_pred = model.predict(X_test)"
   ]
  },
  {
   "cell_type": "code",
   "execution_count": null,
   "id": "3eb084ff-6cc1-47c8-a487-5e8982f71cfe",
   "metadata": {},
   "outputs": [],
   "source": []
  },
  {
   "cell_type": "code",
   "execution_count": null,
   "id": "324e5c42-1582-4ed2-bff5-f51f9eaaee15",
   "metadata": {},
   "outputs": [],
   "source": []
  },
  {
   "cell_type": "code",
   "execution_count": null,
   "id": "d1ee9ae9-f040-4fa0-9dc7-6d53228eb6ce",
   "metadata": {},
   "outputs": [],
   "source": []
  },
  {
   "cell_type": "code",
   "execution_count": 135,
   "id": "01c0bcb5-95d4-4257-8fff-65bb941e655a",
   "metadata": {},
   "outputs": [],
   "source": [
    "error = y_test - y_pred"
   ]
  },
  {
   "cell_type": "code",
   "execution_count": 136,
   "id": "d31b9b69-5a03-4c07-b5f6-bdb94b22801a",
   "metadata": {},
   "outputs": [],
   "source": [
    "mse = (error**2).mean()"
   ]
  },
  {
   "cell_type": "code",
   "execution_count": 137,
   "id": "4adc3712-f598-41b5-a523-69f37ba84c6b",
   "metadata": {},
   "outputs": [],
   "source": [
    "rmse = np.sqrt( (error**2).mean() )"
   ]
  },
  {
   "cell_type": "code",
   "execution_count": 138,
   "id": "3618a985-42f6-4115-9947-2aafccc5b341",
   "metadata": {},
   "outputs": [
    {
     "data": {
      "text/plain": [
       "K-POP_아이돌       0.251218\n",
       "게임              0.337249\n",
       "사진_촬영           0.438898\n",
       "방송_영상           0.434337\n",
       "웹툰              0.258153\n",
       "검색_포털           0.464701\n",
       "금융              0.414719\n",
       "예매              0.238348\n",
       "여행              0.288704\n",
       "음식_주문           0.402599\n",
       "맛집_추천_예약        0.139073\n",
       "쇼핑              0.439273\n",
       "헬스              0.163626\n",
       "전자지갑            0.362427\n",
       "청소_가사노동         0.018243\n",
       "부동산             0.103524\n",
       "병원_약국_의약품_검색    0.142072\n",
       "중고거래            0.369174\n",
       "dtype: float64"
      ]
     },
     "execution_count": 138,
     "metadata": {},
     "output_type": "execute_result"
    }
   ],
   "source": [
    "mse"
   ]
  },
  {
   "cell_type": "code",
   "execution_count": 139,
   "id": "b20c303c-a0d8-4c92-babf-736a78b99661",
   "metadata": {},
   "outputs": [
    {
     "data": {
      "text/plain": [
       "K-POP_아이돌       0.501217\n",
       "게임              0.580731\n",
       "사진_촬영           0.662494\n",
       "방송_영상           0.659043\n",
       "웹툰              0.508088\n",
       "검색_포털           0.681690\n",
       "금융              0.643987\n",
       "예매              0.488209\n",
       "여행              0.537312\n",
       "음식_주문           0.634507\n",
       "맛집_추천_예약        0.372925\n",
       "쇼핑              0.662777\n",
       "헬스              0.404507\n",
       "전자지갑            0.602019\n",
       "청소_가사노동         0.135067\n",
       "부동산             0.321751\n",
       "병원_약국_의약품_검색    0.376924\n",
       "중고거래            0.607597\n",
       "dtype: float64"
      ]
     },
     "execution_count": 139,
     "metadata": {},
     "output_type": "execute_result"
    }
   ],
   "source": [
    "rmse"
   ]
  },
  {
   "cell_type": "code",
   "execution_count": 136,
   "id": "e688bcaf-3465-4dc9-902e-7ecb4bf22f8c",
   "metadata": {},
   "outputs": [],
   "source": [
    "import joblib"
   ]
  },
  {
   "cell_type": "code",
   "execution_count": 140,
   "id": "e1441d99-4ec7-4bbf-a190-332157f984e9",
   "metadata": {},
   "outputs": [
    {
     "data": {
      "text/plain": [
       "['model.pkl']"
      ]
     },
     "execution_count": 140,
     "metadata": {},
     "output_type": "execute_result"
    }
   ],
   "source": [
    "joblib.dump(model,'model.pkl')"
   ]
  },
  {
   "cell_type": "code",
   "execution_count": 137,
   "id": "09a55fbe-caab-4b1a-8cc4-a3d22191d910",
   "metadata": {},
   "outputs": [
    {
     "data": {
      "text/plain": [
       "['ct.pkl']"
      ]
     },
     "execution_count": 137,
     "metadata": {},
     "output_type": "execute_result"
    }
   ],
   "source": [
    "joblib.dump(ct,'ct.pkl')"
   ]
  },
  {
   "cell_type": "code",
   "execution_count": 85,
   "id": "8d43e3a6-601b-49b9-95dd-e1d44bc75e93",
   "metadata": {},
   "outputs": [
    {
     "data": {
      "text/plain": [
       "['X_label_encoder.pkl']"
      ]
     },
     "execution_count": 85,
     "metadata": {},
     "output_type": "execute_result"
    }
   ],
   "source": [
    "joblib.dump(X_label_encoder,'X_label_encoder.pkl')"
   ]
  },
  {
   "cell_type": "code",
   "execution_count": null,
   "id": "a8156f0c-8b32-4511-b686-43a09608edba",
   "metadata": {},
   "outputs": [],
   "source": []
  },
  {
   "cell_type": "code",
   "execution_count": null,
   "id": "33d4e10f-13cc-4f6f-a8d2-204c89fd3c11",
   "metadata": {},
   "outputs": [],
   "source": []
  },
  {
   "cell_type": "code",
   "execution_count": null,
   "id": "61da210d-be9d-43e1-8347-8c6b96c8497f",
   "metadata": {},
   "outputs": [],
   "source": []
  },
  {
   "cell_type": "code",
   "execution_count": 179,
   "id": "c4a2273a-44eb-4fc3-a06d-14aff5613e3f",
   "metadata": {},
   "outputs": [
    {
     "data": {
      "text/plain": [
       "89282"
      ]
     },
     "execution_count": 179,
     "metadata": {},
     "output_type": "execute_result"
    }
   ],
   "source": [
    "y_test.sum().sum()"
   ]
  },
  {
   "cell_type": "code",
   "execution_count": 178,
   "id": "595afc69-bd4a-4aaa-ae86-95e0c4e84c33",
   "metadata": {},
   "outputs": [
    {
     "data": {
      "text/plain": [
       "65800"
      ]
     },
     "execution_count": 178,
     "metadata": {},
     "output_type": "execute_result"
    }
   ],
   "source": [
    "y_pred.sum()"
   ]
  },
  {
   "cell_type": "code",
   "execution_count": null,
   "id": "70aa67ac-d2ad-445c-92b2-c841798cc0ae",
   "metadata": {},
   "outputs": [],
   "source": []
  },
  {
   "cell_type": "code",
   "execution_count": null,
   "id": "6fd60121-285e-4b4e-a9e3-bdda9fc4971f",
   "metadata": {},
   "outputs": [],
   "source": []
  },
  {
   "cell_type": "code",
   "execution_count": null,
   "id": "6382a65d-cb40-465d-bc37-fd6f4bf5eb8a",
   "metadata": {},
   "outputs": [],
   "source": []
  },
  {
   "cell_type": "code",
   "execution_count": null,
   "id": "79427d16-0bf8-452a-a962-b44f923359ce",
   "metadata": {},
   "outputs": [],
   "source": []
  },
  {
   "cell_type": "code",
   "execution_count": null,
   "id": "5f7cf24f-13de-4ecc-a056-3f00fce9825e",
   "metadata": {},
   "outputs": [],
   "source": []
  },
  {
   "cell_type": "code",
   "execution_count": null,
   "id": "20c2ece7-2cba-4fef-a0a0-dbadb054441d",
   "metadata": {},
   "outputs": [],
   "source": []
  },
  {
   "cell_type": "code",
   "execution_count": null,
   "id": "ae2414a8-62f1-4c33-832a-a2165870ff3a",
   "metadata": {},
   "outputs": [],
   "source": []
  }
 ],
 "metadata": {
  "kernelspec": {
   "display_name": "Python 3 (ipykernel)",
   "language": "python",
   "name": "python3"
  },
  "language_info": {
   "codemirror_mode": {
    "name": "ipython",
    "version": 3
   },
   "file_extension": ".py",
   "mimetype": "text/x-python",
   "name": "python",
   "nbconvert_exporter": "python",
   "pygments_lexer": "ipython3",
   "version": "3.11.7"
  }
 },
 "nbformat": 4,
 "nbformat_minor": 5
}
