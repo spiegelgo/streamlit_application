{
 "cells": [
  {
   "cell_type": "code",
   "execution_count": 11,
   "id": "f8b7f52d-34d7-4b5f-a37a-db2b77b52711",
   "metadata": {},
   "outputs": [],
   "source": [
    "import pandas as pd"
   ]
  },
  {
   "cell_type": "code",
   "execution_count": 12,
   "id": "84f250db-cd22-45cd-9167-3039302661b1",
   "metadata": {},
   "outputs": [],
   "source": [
    "df1 = pd.read_csv('./data/CI_UTILIIZA_MOBILE_APLCTN_USR_CHARTR_INFO_202305.csv')"
   ]
  },
  {
   "cell_type": "code",
   "execution_count": 13,
   "id": "35312fb5-46b9-4fcc-b154-878eca200289",
   "metadata": {},
   "outputs": [],
   "source": [
    "df2 = pd.read_csv('./data/CI_UTILIIZA_MOBILE_APLCTN_USR_CHARTR_INFO_202311.csv')"
   ]
  },
  {
   "cell_type": "code",
   "execution_count": 14,
   "id": "a69a09a6-e26e-4818-8df9-00cce043fdc5",
   "metadata": {},
   "outputs": [],
   "source": [
    "df1 = df1.drop('RESPOND_ID',axis = 1)"
   ]
  },
  {
   "cell_type": "code",
   "execution_count": 15,
   "id": "c42ac0f5-5f04-4512-a65d-cf33b0f98cbe",
   "metadata": {},
   "outputs": [],
   "source": [
    "df2 = df2.drop('RESPOND_ID',axis = 1)"
   ]
  },
  {
   "cell_type": "code",
   "execution_count": 16,
   "id": "c95cd149-0bfe-46f7-b5f2-dffeeed5c096",
   "metadata": {},
   "outputs": [],
   "source": [
    "df = pd.concat([df1,df2])"
   ]
  },
  {
   "cell_type": "code",
   "execution_count": 17,
   "id": "09ab4cb6-8011-4517-bb1b-444f702564ad",
   "metadata": {},
   "outputs": [],
   "source": [
    "df.reset_index(inplace=True)"
   ]
  },
  {
   "cell_type": "code",
   "execution_count": 18,
   "id": "2aa80db0-e43b-4e23-a2f8-59b983c86fef",
   "metadata": {},
   "outputs": [],
   "source": [
    "df.drop('index',axis=1,inplace=True)"
   ]
  },
  {
   "cell_type": "code",
   "execution_count": 19,
   "id": "9a1d2027-e010-4c1a-80a0-d8bff955ebfe",
   "metadata": {},
   "outputs": [
    {
     "data": {
      "text/html": [
       "<div>\n",
       "<style scoped>\n",
       "    .dataframe tbody tr th:only-of-type {\n",
       "        vertical-align: middle;\n",
       "    }\n",
       "\n",
       "    .dataframe tbody tr th {\n",
       "        vertical-align: top;\n",
       "    }\n",
       "\n",
       "    .dataframe thead th {\n",
       "        text-align: right;\n",
       "    }\n",
       "</style>\n",
       "<table border=\"1\" class=\"dataframe\">\n",
       "  <thead>\n",
       "    <tr style=\"text-align: right;\">\n",
       "      <th></th>\n",
       "      <th>EXAMIN_BEGIN_DE</th>\n",
       "      <th>UTILIIZA_MOBILE_APLCTN_MUSIC_PBLPRFR_K_IDOL_AT</th>\n",
       "      <th>UTILIIZA_MOBILE_APLCTN_GAME_AT</th>\n",
       "      <th>UTILIIZA_MOBILE_APLCTN_PHT_AT</th>\n",
       "      <th>UTILIIZA_MOBILE_APLCTN_BRDCST_VIDO_AT</th>\n",
       "      <th>UTILIIZA_MOBILE_APLCTN_CMC_WEBTOON_AT</th>\n",
       "      <th>UTILIIZA_MOBILE_APLCTN_SEARCH_PORTAL_AT</th>\n",
       "      <th>UTILIIZA_MOBILE_APLCTN_FNC_AT</th>\n",
       "      <th>UTILIIZA_MOBILE_APLCTN_ADVANTK_AT</th>\n",
       "      <th>UTILIIZA_MOBILE_APLCTN_TOUR_AT</th>\n",
       "      <th>...</th>\n",
       "      <th>UTILIIZA_MOBILE_APLCTN_CLEAN_DCCS_AT</th>\n",
       "      <th>UTILIIZA_MOBILE_APLCTN_ESTT_AT</th>\n",
       "      <th>UTILIIZA_MOBILE_APLCTN_HSPTL_PHARM_MEDIC_SEARCH_AT</th>\n",
       "      <th>UTILIIZA_MOBILE_APLCTN_USEGT_AT</th>\n",
       "      <th>SEXDSTN_FLAG_CD</th>\n",
       "      <th>AGRDE_FLAG_NM</th>\n",
       "      <th>MRRG_AT_NM</th>\n",
       "      <th>HSHLD_INCOME_DGREE_NM</th>\n",
       "      <th>OCCP_NM</th>\n",
       "      <th>ANSWRR_OC_AREA_NM</th>\n",
       "    </tr>\n",
       "  </thead>\n",
       "  <tbody>\n",
       "    <tr>\n",
       "      <th>0</th>\n",
       "      <td>20230501</td>\n",
       "      <td>N</td>\n",
       "      <td>N</td>\n",
       "      <td>Y</td>\n",
       "      <td>Y</td>\n",
       "      <td>N</td>\n",
       "      <td>N</td>\n",
       "      <td>Y</td>\n",
       "      <td>Y</td>\n",
       "      <td>N</td>\n",
       "      <td>...</td>\n",
       "      <td>N</td>\n",
       "      <td>Y</td>\n",
       "      <td>N</td>\n",
       "      <td>N</td>\n",
       "      <td>F</td>\n",
       "      <td>30대</td>\n",
       "      <td>미혼 / 비혼</td>\n",
       "      <td>600만원</td>\n",
       "      <td>사무직</td>\n",
       "      <td>서울</td>\n",
       "    </tr>\n",
       "    <tr>\n",
       "      <th>1</th>\n",
       "      <td>20230501</td>\n",
       "      <td>N</td>\n",
       "      <td>Y</td>\n",
       "      <td>Y</td>\n",
       "      <td>Y</td>\n",
       "      <td>N</td>\n",
       "      <td>N</td>\n",
       "      <td>Y</td>\n",
       "      <td>Y</td>\n",
       "      <td>Y</td>\n",
       "      <td>...</td>\n",
       "      <td>N</td>\n",
       "      <td>N</td>\n",
       "      <td>N</td>\n",
       "      <td>N</td>\n",
       "      <td>M</td>\n",
       "      <td>40대</td>\n",
       "      <td>기혼</td>\n",
       "      <td>600만원</td>\n",
       "      <td>사무직</td>\n",
       "      <td>경기</td>\n",
       "    </tr>\n",
       "    <tr>\n",
       "      <th>2</th>\n",
       "      <td>20230501</td>\n",
       "      <td>N</td>\n",
       "      <td>Y</td>\n",
       "      <td>Y</td>\n",
       "      <td>Y</td>\n",
       "      <td>Y</td>\n",
       "      <td>Y</td>\n",
       "      <td>Y</td>\n",
       "      <td>N</td>\n",
       "      <td>N</td>\n",
       "      <td>...</td>\n",
       "      <td>N</td>\n",
       "      <td>N</td>\n",
       "      <td>N</td>\n",
       "      <td>N</td>\n",
       "      <td>F</td>\n",
       "      <td>20대</td>\n",
       "      <td>미혼 / 비혼</td>\n",
       "      <td>200만원</td>\n",
       "      <td>대학생</td>\n",
       "      <td>인천</td>\n",
       "    </tr>\n",
       "    <tr>\n",
       "      <th>3</th>\n",
       "      <td>20230501</td>\n",
       "      <td>Y</td>\n",
       "      <td>N</td>\n",
       "      <td>N</td>\n",
       "      <td>Y</td>\n",
       "      <td>N</td>\n",
       "      <td>Y</td>\n",
       "      <td>Y</td>\n",
       "      <td>N</td>\n",
       "      <td>N</td>\n",
       "      <td>...</td>\n",
       "      <td>N</td>\n",
       "      <td>N</td>\n",
       "      <td>N</td>\n",
       "      <td>N</td>\n",
       "      <td>M</td>\n",
       "      <td>50대이상</td>\n",
       "      <td>기타(이혼, 사별 등)</td>\n",
       "      <td>100만원</td>\n",
       "      <td>무직</td>\n",
       "      <td>경기</td>\n",
       "    </tr>\n",
       "    <tr>\n",
       "      <th>4</th>\n",
       "      <td>20230501</td>\n",
       "      <td>N</td>\n",
       "      <td>Y</td>\n",
       "      <td>Y</td>\n",
       "      <td>Y</td>\n",
       "      <td>N</td>\n",
       "      <td>Y</td>\n",
       "      <td>Y</td>\n",
       "      <td>N</td>\n",
       "      <td>Y</td>\n",
       "      <td>...</td>\n",
       "      <td>N</td>\n",
       "      <td>N</td>\n",
       "      <td>N</td>\n",
       "      <td>Y</td>\n",
       "      <td>M</td>\n",
       "      <td>30대</td>\n",
       "      <td>미혼 / 비혼</td>\n",
       "      <td>400만원</td>\n",
       "      <td>사무직</td>\n",
       "      <td>경기</td>\n",
       "    </tr>\n",
       "    <tr>\n",
       "      <th>...</th>\n",
       "      <td>...</td>\n",
       "      <td>...</td>\n",
       "      <td>...</td>\n",
       "      <td>...</td>\n",
       "      <td>...</td>\n",
       "      <td>...</td>\n",
       "      <td>...</td>\n",
       "      <td>...</td>\n",
       "      <td>...</td>\n",
       "      <td>...</td>\n",
       "      <td>...</td>\n",
       "      <td>...</td>\n",
       "      <td>...</td>\n",
       "      <td>...</td>\n",
       "      <td>...</td>\n",
       "      <td>...</td>\n",
       "      <td>...</td>\n",
       "      <td>...</td>\n",
       "      <td>...</td>\n",
       "      <td>...</td>\n",
       "      <td>...</td>\n",
       "    </tr>\n",
       "    <tr>\n",
       "      <th>68436</th>\n",
       "      <td>20231101</td>\n",
       "      <td>N</td>\n",
       "      <td>N</td>\n",
       "      <td>N</td>\n",
       "      <td>N</td>\n",
       "      <td>N</td>\n",
       "      <td>N</td>\n",
       "      <td>N</td>\n",
       "      <td>N</td>\n",
       "      <td>N</td>\n",
       "      <td>...</td>\n",
       "      <td>N</td>\n",
       "      <td>N</td>\n",
       "      <td>N</td>\n",
       "      <td>N</td>\n",
       "      <td>F</td>\n",
       "      <td>30대</td>\n",
       "      <td>기타(이혼, 사별 등)</td>\n",
       "      <td>500만원</td>\n",
       "      <td>기술직</td>\n",
       "      <td>충남</td>\n",
       "    </tr>\n",
       "    <tr>\n",
       "      <th>68437</th>\n",
       "      <td>20231101</td>\n",
       "      <td>N</td>\n",
       "      <td>N</td>\n",
       "      <td>N</td>\n",
       "      <td>N</td>\n",
       "      <td>N</td>\n",
       "      <td>N</td>\n",
       "      <td>N</td>\n",
       "      <td>N</td>\n",
       "      <td>N</td>\n",
       "      <td>...</td>\n",
       "      <td>N</td>\n",
       "      <td>N</td>\n",
       "      <td>N</td>\n",
       "      <td>N</td>\n",
       "      <td>F</td>\n",
       "      <td>20대</td>\n",
       "      <td>미혼 / 비혼</td>\n",
       "      <td>100만원</td>\n",
       "      <td>자유직 (예술가, 종교인 등)</td>\n",
       "      <td>서울</td>\n",
       "    </tr>\n",
       "    <tr>\n",
       "      <th>68438</th>\n",
       "      <td>20231101</td>\n",
       "      <td>N</td>\n",
       "      <td>N</td>\n",
       "      <td>Y</td>\n",
       "      <td>Y</td>\n",
       "      <td>N</td>\n",
       "      <td>Y</td>\n",
       "      <td>Y</td>\n",
       "      <td>N</td>\n",
       "      <td>N</td>\n",
       "      <td>...</td>\n",
       "      <td>N</td>\n",
       "      <td>N</td>\n",
       "      <td>N</td>\n",
       "      <td>Y</td>\n",
       "      <td>F</td>\n",
       "      <td>60대 이상</td>\n",
       "      <td>기혼</td>\n",
       "      <td>300만원</td>\n",
       "      <td>전업주부</td>\n",
       "      <td>경기</td>\n",
       "    </tr>\n",
       "    <tr>\n",
       "      <th>68439</th>\n",
       "      <td>20231101</td>\n",
       "      <td>N</td>\n",
       "      <td>N</td>\n",
       "      <td>N</td>\n",
       "      <td>N</td>\n",
       "      <td>N</td>\n",
       "      <td>N</td>\n",
       "      <td>N</td>\n",
       "      <td>N</td>\n",
       "      <td>N</td>\n",
       "      <td>...</td>\n",
       "      <td>N</td>\n",
       "      <td>N</td>\n",
       "      <td>N</td>\n",
       "      <td>N</td>\n",
       "      <td>M</td>\n",
       "      <td>30대</td>\n",
       "      <td>미혼 / 비혼</td>\n",
       "      <td>300만원</td>\n",
       "      <td>사무직</td>\n",
       "      <td>경남</td>\n",
       "    </tr>\n",
       "    <tr>\n",
       "      <th>68440</th>\n",
       "      <td>20231101</td>\n",
       "      <td>N</td>\n",
       "      <td>N</td>\n",
       "      <td>Y</td>\n",
       "      <td>Y</td>\n",
       "      <td>N</td>\n",
       "      <td>N</td>\n",
       "      <td>Y</td>\n",
       "      <td>N</td>\n",
       "      <td>N</td>\n",
       "      <td>...</td>\n",
       "      <td>N</td>\n",
       "      <td>Y</td>\n",
       "      <td>N</td>\n",
       "      <td>Y</td>\n",
       "      <td>M</td>\n",
       "      <td>30대</td>\n",
       "      <td>기혼</td>\n",
       "      <td>600만원</td>\n",
       "      <td>사무직</td>\n",
       "      <td>경기</td>\n",
       "    </tr>\n",
       "  </tbody>\n",
       "</table>\n",
       "<p>68441 rows × 25 columns</p>\n",
       "</div>"
      ],
      "text/plain": [
       "       EXAMIN_BEGIN_DE UTILIIZA_MOBILE_APLCTN_MUSIC_PBLPRFR_K_IDOL_AT  \\\n",
       "0             20230501                                              N   \n",
       "1             20230501                                              N   \n",
       "2             20230501                                              N   \n",
       "3             20230501                                              Y   \n",
       "4             20230501                                              N   \n",
       "...                ...                                            ...   \n",
       "68436         20231101                                              N   \n",
       "68437         20231101                                              N   \n",
       "68438         20231101                                              N   \n",
       "68439         20231101                                              N   \n",
       "68440         20231101                                              N   \n",
       "\n",
       "      UTILIIZA_MOBILE_APLCTN_GAME_AT UTILIIZA_MOBILE_APLCTN_PHT_AT  \\\n",
       "0                                  N                             Y   \n",
       "1                                  Y                             Y   \n",
       "2                                  Y                             Y   \n",
       "3                                  N                             N   \n",
       "4                                  Y                             Y   \n",
       "...                              ...                           ...   \n",
       "68436                              N                             N   \n",
       "68437                              N                             N   \n",
       "68438                              N                             Y   \n",
       "68439                              N                             N   \n",
       "68440                              N                             Y   \n",
       "\n",
       "      UTILIIZA_MOBILE_APLCTN_BRDCST_VIDO_AT  \\\n",
       "0                                         Y   \n",
       "1                                         Y   \n",
       "2                                         Y   \n",
       "3                                         Y   \n",
       "4                                         Y   \n",
       "...                                     ...   \n",
       "68436                                     N   \n",
       "68437                                     N   \n",
       "68438                                     Y   \n",
       "68439                                     N   \n",
       "68440                                     Y   \n",
       "\n",
       "      UTILIIZA_MOBILE_APLCTN_CMC_WEBTOON_AT  \\\n",
       "0                                         N   \n",
       "1                                         N   \n",
       "2                                         Y   \n",
       "3                                         N   \n",
       "4                                         N   \n",
       "...                                     ...   \n",
       "68436                                     N   \n",
       "68437                                     N   \n",
       "68438                                     N   \n",
       "68439                                     N   \n",
       "68440                                     N   \n",
       "\n",
       "      UTILIIZA_MOBILE_APLCTN_SEARCH_PORTAL_AT UTILIIZA_MOBILE_APLCTN_FNC_AT  \\\n",
       "0                                           N                             Y   \n",
       "1                                           N                             Y   \n",
       "2                                           Y                             Y   \n",
       "3                                           Y                             Y   \n",
       "4                                           Y                             Y   \n",
       "...                                       ...                           ...   \n",
       "68436                                       N                             N   \n",
       "68437                                       N                             N   \n",
       "68438                                       Y                             Y   \n",
       "68439                                       N                             N   \n",
       "68440                                       N                             Y   \n",
       "\n",
       "      UTILIIZA_MOBILE_APLCTN_ADVANTK_AT UTILIIZA_MOBILE_APLCTN_TOUR_AT  ...  \\\n",
       "0                                     Y                              N  ...   \n",
       "1                                     Y                              Y  ...   \n",
       "2                                     N                              N  ...   \n",
       "3                                     N                              N  ...   \n",
       "4                                     N                              Y  ...   \n",
       "...                                 ...                            ...  ...   \n",
       "68436                                 N                              N  ...   \n",
       "68437                                 N                              N  ...   \n",
       "68438                                 N                              N  ...   \n",
       "68439                                 N                              N  ...   \n",
       "68440                                 N                              N  ...   \n",
       "\n",
       "      UTILIIZA_MOBILE_APLCTN_CLEAN_DCCS_AT UTILIIZA_MOBILE_APLCTN_ESTT_AT  \\\n",
       "0                                        N                              Y   \n",
       "1                                        N                              N   \n",
       "2                                        N                              N   \n",
       "3                                        N                              N   \n",
       "4                                        N                              N   \n",
       "...                                    ...                            ...   \n",
       "68436                                    N                              N   \n",
       "68437                                    N                              N   \n",
       "68438                                    N                              N   \n",
       "68439                                    N                              N   \n",
       "68440                                    N                              Y   \n",
       "\n",
       "      UTILIIZA_MOBILE_APLCTN_HSPTL_PHARM_MEDIC_SEARCH_AT  \\\n",
       "0                                                      N   \n",
       "1                                                      N   \n",
       "2                                                      N   \n",
       "3                                                      N   \n",
       "4                                                      N   \n",
       "...                                                  ...   \n",
       "68436                                                  N   \n",
       "68437                                                  N   \n",
       "68438                                                  N   \n",
       "68439                                                  N   \n",
       "68440                                                  N   \n",
       "\n",
       "      UTILIIZA_MOBILE_APLCTN_USEGT_AT SEXDSTN_FLAG_CD AGRDE_FLAG_NM  \\\n",
       "0                                   N               F           30대   \n",
       "1                                   N               M           40대   \n",
       "2                                   N               F           20대   \n",
       "3                                   N               M         50대이상   \n",
       "4                                   Y               M           30대   \n",
       "...                               ...             ...           ...   \n",
       "68436                               N               F           30대   \n",
       "68437                               N               F           20대   \n",
       "68438                               Y               F        60대 이상   \n",
       "68439                               N               M           30대   \n",
       "68440                               Y               M           30대   \n",
       "\n",
       "         MRRG_AT_NM HSHLD_INCOME_DGREE_NM           OCCP_NM ANSWRR_OC_AREA_NM  \n",
       "0           미혼 / 비혼                 600만원               사무직                서울  \n",
       "1                기혼                 600만원               사무직                경기  \n",
       "2           미혼 / 비혼                 200만원               대학생                인천  \n",
       "3      기타(이혼, 사별 등)                 100만원                무직                경기  \n",
       "4           미혼 / 비혼                 400만원               사무직                경기  \n",
       "...             ...                   ...               ...               ...  \n",
       "68436  기타(이혼, 사별 등)                 500만원               기술직                충남  \n",
       "68437       미혼 / 비혼                 100만원  자유직 (예술가, 종교인 등)                서울  \n",
       "68438            기혼                 300만원              전업주부                경기  \n",
       "68439       미혼 / 비혼                 300만원               사무직                경남  \n",
       "68440            기혼                 600만원               사무직                경기  \n",
       "\n",
       "[68441 rows x 25 columns]"
      ]
     },
     "execution_count": 19,
     "metadata": {},
     "output_type": "execute_result"
    }
   ],
   "source": [
    "df"
   ]
  },
  {
   "cell_type": "code",
   "execution_count": 20,
   "id": "49223401-2999-40c8-965b-30fb277417c5",
   "metadata": {},
   "outputs": [],
   "source": [
    "df.drop('EXAMIN_BEGIN_DE',axis=1,inplace=True)"
   ]
  },
  {
   "cell_type": "code",
   "execution_count": 21,
   "id": "74902fc7-c390-4df9-b22b-e4029e098fb9",
   "metadata": {},
   "outputs": [],
   "source": [
    "df.drop('OCCP_NM',axis=1,inplace=True)"
   ]
  },
  {
   "cell_type": "code",
   "execution_count": 22,
   "id": "6470161a-c6c6-4186-ae2b-83348d5f2b7a",
   "metadata": {},
   "outputs": [
    {
     "data": {
      "text/plain": [
       "Index(['UTILIIZA_MOBILE_APLCTN_MUSIC_PBLPRFR_K_IDOL_AT',\n",
       "       'UTILIIZA_MOBILE_APLCTN_GAME_AT', 'UTILIIZA_MOBILE_APLCTN_PHT_AT',\n",
       "       'UTILIIZA_MOBILE_APLCTN_BRDCST_VIDO_AT',\n",
       "       'UTILIIZA_MOBILE_APLCTN_CMC_WEBTOON_AT',\n",
       "       'UTILIIZA_MOBILE_APLCTN_SEARCH_PORTAL_AT',\n",
       "       'UTILIIZA_MOBILE_APLCTN_FNC_AT', 'UTILIIZA_MOBILE_APLCTN_ADVANTK_AT',\n",
       "       'UTILIIZA_MOBILE_APLCTN_TOUR_AT',\n",
       "       'UTILIIZA_MOBILE_APLCTN_FOOD_ORDER_AT',\n",
       "       'UTILIIZA_MOBILE_APLCTN_GBRSTRNT_RECOMEND_RESVE_AT',\n",
       "       'UTILIIZA_MOBILE_APLCTN_SHOPNG_AT', 'UTILIIZA_MOBILE_APLCTN_WRKOT_AT',\n",
       "       'UTILIIZA_MOBILE_APLCTN_EWALLET_AT',\n",
       "       'UTILIIZA_MOBILE_APLCTN_CLEAN_DCCS_AT',\n",
       "       'UTILIIZA_MOBILE_APLCTN_ESTT_AT',\n",
       "       'UTILIIZA_MOBILE_APLCTN_HSPTL_PHARM_MEDIC_SEARCH_AT',\n",
       "       'UTILIIZA_MOBILE_APLCTN_USEGT_AT', 'SEXDSTN_FLAG_CD', 'AGRDE_FLAG_NM',\n",
       "       'MRRG_AT_NM', 'HSHLD_INCOME_DGREE_NM', 'ANSWRR_OC_AREA_NM'],\n",
       "      dtype='object')"
      ]
     },
     "execution_count": 22,
     "metadata": {},
     "output_type": "execute_result"
    }
   ],
   "source": [
    "df.columns"
   ]
  },
  {
   "cell_type": "code",
   "execution_count": 23,
   "id": "f0728370-4d62-4992-9051-5a6311b9f90d",
   "metadata": {},
   "outputs": [],
   "source": [
    "df.columns = ['K-POP_아이돌', '게임', '사진_촬영', '방송_영상','웹툰','검색_포털','금융','예매','여행','음식_주문','맛집_추천_예약','쇼핑','헬스','전자지갑','청소_가사노동','부동산','병원_약국_의약품_검색','중고거래','성별','나이','결혼','월_소득','거주지역']"
   ]
  },
  {
   "cell_type": "code",
   "execution_count": null,
   "id": "7c7f6ca6-b771-4c7d-86df-78f83a2604c2",
   "metadata": {},
   "outputs": [],
   "source": []
  },
  {
   "cell_type": "code",
   "execution_count": 24,
   "id": "92989664-d781-4a8c-b4d4-bbc4240e1447",
   "metadata": {},
   "outputs": [
    {
     "data": {
      "text/html": [
       "<div>\n",
       "<style scoped>\n",
       "    .dataframe tbody tr th:only-of-type {\n",
       "        vertical-align: middle;\n",
       "    }\n",
       "\n",
       "    .dataframe tbody tr th {\n",
       "        vertical-align: top;\n",
       "    }\n",
       "\n",
       "    .dataframe thead th {\n",
       "        text-align: right;\n",
       "    }\n",
       "</style>\n",
       "<table border=\"1\" class=\"dataframe\">\n",
       "  <thead>\n",
       "    <tr style=\"text-align: right;\">\n",
       "      <th></th>\n",
       "      <th>K-POP_아이돌</th>\n",
       "      <th>게임</th>\n",
       "      <th>사진_촬영</th>\n",
       "      <th>방송_영상</th>\n",
       "      <th>웹툰</th>\n",
       "      <th>검색_포털</th>\n",
       "      <th>금융</th>\n",
       "      <th>예매</th>\n",
       "      <th>여행</th>\n",
       "      <th>음식_주문</th>\n",
       "      <th>...</th>\n",
       "      <th>전자지갑</th>\n",
       "      <th>청소_가사노동</th>\n",
       "      <th>부동산</th>\n",
       "      <th>병원_약국_의약품_검색</th>\n",
       "      <th>중고거래</th>\n",
       "      <th>성별</th>\n",
       "      <th>나이</th>\n",
       "      <th>결혼</th>\n",
       "      <th>월_소득</th>\n",
       "      <th>거주지역</th>\n",
       "    </tr>\n",
       "  </thead>\n",
       "  <tbody>\n",
       "    <tr>\n",
       "      <th>0</th>\n",
       "      <td>N</td>\n",
       "      <td>N</td>\n",
       "      <td>Y</td>\n",
       "      <td>Y</td>\n",
       "      <td>N</td>\n",
       "      <td>N</td>\n",
       "      <td>Y</td>\n",
       "      <td>Y</td>\n",
       "      <td>N</td>\n",
       "      <td>Y</td>\n",
       "      <td>...</td>\n",
       "      <td>Y</td>\n",
       "      <td>N</td>\n",
       "      <td>Y</td>\n",
       "      <td>N</td>\n",
       "      <td>N</td>\n",
       "      <td>F</td>\n",
       "      <td>30대</td>\n",
       "      <td>미혼 / 비혼</td>\n",
       "      <td>600만원</td>\n",
       "      <td>서울</td>\n",
       "    </tr>\n",
       "  </tbody>\n",
       "</table>\n",
       "<p>1 rows × 23 columns</p>\n",
       "</div>"
      ],
      "text/plain": [
       "  K-POP_아이돌 게임 사진_촬영 방송_영상 웹툰 검색_포털 금융 예매 여행 음식_주문  ... 전자지갑 청소_가사노동 부동산  \\\n",
       "0         N  N     Y     Y  N     N  Y  Y  N     Y  ...    Y       N   Y   \n",
       "\n",
       "  병원_약국_의약품_검색 중고거래 성별   나이       결혼   월_소득 거주지역  \n",
       "0            N    N  F  30대  미혼 / 비혼  600만원   서울  \n",
       "\n",
       "[1 rows x 23 columns]"
      ]
     },
     "execution_count": 24,
     "metadata": {},
     "output_type": "execute_result"
    }
   ],
   "source": [
    "df.head(1)"
   ]
  },
  {
   "cell_type": "code",
   "execution_count": 25,
   "id": "248706cd-869b-4887-902f-a7b8b3dc68bf",
   "metadata": {},
   "outputs": [
    {
     "data": {
      "text/plain": [
       "K-POP_아이돌       0\n",
       "게임              0\n",
       "사진_촬영           0\n",
       "방송_영상           0\n",
       "웹툰              0\n",
       "검색_포털           0\n",
       "금융              0\n",
       "예매              0\n",
       "여행              0\n",
       "음식_주문           0\n",
       "맛집_추천_예약        0\n",
       "쇼핑              0\n",
       "헬스              0\n",
       "전자지갑            0\n",
       "청소_가사노동         0\n",
       "부동산             0\n",
       "병원_약국_의약품_검색    0\n",
       "중고거래            0\n",
       "성별              0\n",
       "나이              0\n",
       "결혼              0\n",
       "월_소득            0\n",
       "거주지역            0\n",
       "dtype: int64"
      ]
     },
     "execution_count": 25,
     "metadata": {},
     "output_type": "execute_result"
    }
   ],
   "source": [
    "df.isna().sum()"
   ]
  },
  {
   "cell_type": "code",
   "execution_count": 26,
   "id": "afdac605-fbdc-4164-bcef-57e0e13d3fc6",
   "metadata": {},
   "outputs": [
    {
     "data": {
      "text/plain": [
       "array(['30대', '40대', '20대', '50대이상', '10대', '60대 이상', '50대'], dtype=object)"
      ]
     },
     "execution_count": 26,
     "metadata": {},
     "output_type": "execute_result"
    }
   ],
   "source": [
    "df['나이'].unique()"
   ]
  },
  {
   "cell_type": "code",
   "execution_count": 27,
   "id": "7f6f7cea-0e0e-490a-8b5d-8cb6e075004b",
   "metadata": {},
   "outputs": [],
   "source": [
    "df.loc[df['나이'] == '50대이상', '나이'] = '50대'"
   ]
  },
  {
   "cell_type": "code",
   "execution_count": 28,
   "id": "d79eba7c-3166-4e3e-9afb-51ea4da4e14a",
   "metadata": {},
   "outputs": [
    {
     "data": {
      "text/plain": [
       "array(['30대', '40대', '20대', '50대', '10대', '60대 이상'], dtype=object)"
      ]
     },
     "execution_count": 28,
     "metadata": {},
     "output_type": "execute_result"
    }
   ],
   "source": [
    "df['나이'].unique()"
   ]
  },
  {
   "cell_type": "code",
   "execution_count": 29,
   "id": "e5e6d264-e08f-4b45-8bc1-67e6ad6fed64",
   "metadata": {},
   "outputs": [],
   "source": [
    "df.loc[df['나이'] == '60대 이상', '나이'] = '60대'"
   ]
  },
  {
   "cell_type": "code",
   "execution_count": 30,
   "id": "16d243f4-8419-4aac-8fbf-7623f317b389",
   "metadata": {},
   "outputs": [
    {
     "data": {
      "text/plain": [
       "array(['30대', '40대', '20대', '50대', '10대', '60대'], dtype=object)"
      ]
     },
     "execution_count": 30,
     "metadata": {},
     "output_type": "execute_result"
    }
   ],
   "source": [
    "df['나이'].unique()"
   ]
  },
  {
   "cell_type": "code",
   "execution_count": 31,
   "id": "dee0f4cc-47b4-45a9-b1eb-3521941b5fd9",
   "metadata": {},
   "outputs": [],
   "source": [
    "df['나이'] = df['나이'].str.replace('대', '')"
   ]
  },
  {
   "cell_type": "code",
   "execution_count": 32,
   "id": "ca88e067-3065-425d-b15c-8bfe8ee11756",
   "metadata": {},
   "outputs": [
    {
     "data": {
      "text/plain": [
       "array(['30', '40', '20', '50', '10', '60'], dtype=object)"
      ]
     },
     "execution_count": 32,
     "metadata": {},
     "output_type": "execute_result"
    }
   ],
   "source": [
    "df['나이'].unique()"
   ]
  },
  {
   "cell_type": "code",
   "execution_count": 33,
   "id": "41054277-0407-4084-9c00-4c2e5168793f",
   "metadata": {},
   "outputs": [],
   "source": [
    "df['나이']= df['나이'].astype(int)"
   ]
  },
  {
   "cell_type": "code",
   "execution_count": 34,
   "id": "62c24abc-52c2-47c4-bad9-b6ae96331771",
   "metadata": {},
   "outputs": [
    {
     "name": "stdout",
     "output_type": "stream",
     "text": [
      "<class 'pandas.core.series.Series'>\n",
      "RangeIndex: 68441 entries, 0 to 68440\n",
      "Series name: 나이\n",
      "Non-Null Count  Dtype\n",
      "--------------  -----\n",
      "68441 non-null  int32\n",
      "dtypes: int32(1)\n",
      "memory usage: 267.5 KB\n"
     ]
    }
   ],
   "source": [
    "df['나이'].info()"
   ]
  },
  {
   "cell_type": "code",
   "execution_count": 35,
   "id": "d31864fd-0d45-49c1-89db-67063e576fd2",
   "metadata": {},
   "outputs": [
    {
     "data": {
      "text/html": [
       "<div>\n",
       "<style scoped>\n",
       "    .dataframe tbody tr th:only-of-type {\n",
       "        vertical-align: middle;\n",
       "    }\n",
       "\n",
       "    .dataframe tbody tr th {\n",
       "        vertical-align: top;\n",
       "    }\n",
       "\n",
       "    .dataframe thead th {\n",
       "        text-align: right;\n",
       "    }\n",
       "</style>\n",
       "<table border=\"1\" class=\"dataframe\">\n",
       "  <thead>\n",
       "    <tr style=\"text-align: right;\">\n",
       "      <th></th>\n",
       "      <th>K-POP_아이돌</th>\n",
       "      <th>게임</th>\n",
       "      <th>사진_촬영</th>\n",
       "      <th>방송_영상</th>\n",
       "      <th>웹툰</th>\n",
       "      <th>검색_포털</th>\n",
       "      <th>금융</th>\n",
       "      <th>예매</th>\n",
       "      <th>여행</th>\n",
       "      <th>음식_주문</th>\n",
       "      <th>...</th>\n",
       "      <th>전자지갑</th>\n",
       "      <th>청소_가사노동</th>\n",
       "      <th>부동산</th>\n",
       "      <th>병원_약국_의약품_검색</th>\n",
       "      <th>중고거래</th>\n",
       "      <th>성별</th>\n",
       "      <th>나이</th>\n",
       "      <th>결혼</th>\n",
       "      <th>월_소득</th>\n",
       "      <th>거주지역</th>\n",
       "    </tr>\n",
       "  </thead>\n",
       "  <tbody>\n",
       "    <tr>\n",
       "      <th>13</th>\n",
       "      <td>N</td>\n",
       "      <td>N</td>\n",
       "      <td>Y</td>\n",
       "      <td>Y</td>\n",
       "      <td>Y</td>\n",
       "      <td>Y</td>\n",
       "      <td>Y</td>\n",
       "      <td>Y</td>\n",
       "      <td>Y</td>\n",
       "      <td>Y</td>\n",
       "      <td>...</td>\n",
       "      <td>N</td>\n",
       "      <td>N</td>\n",
       "      <td>N</td>\n",
       "      <td>Y</td>\n",
       "      <td>Y</td>\n",
       "      <td>F</td>\n",
       "      <td>30</td>\n",
       "      <td>미혼 / 비혼</td>\n",
       "      <td>모름</td>\n",
       "      <td>인천</td>\n",
       "    </tr>\n",
       "    <tr>\n",
       "      <th>23</th>\n",
       "      <td>Y</td>\n",
       "      <td>Y</td>\n",
       "      <td>Y</td>\n",
       "      <td>Y</td>\n",
       "      <td>Y</td>\n",
       "      <td>Y</td>\n",
       "      <td>Y</td>\n",
       "      <td>N</td>\n",
       "      <td>Y</td>\n",
       "      <td>Y</td>\n",
       "      <td>...</td>\n",
       "      <td>Y</td>\n",
       "      <td>N</td>\n",
       "      <td>N</td>\n",
       "      <td>N</td>\n",
       "      <td>N</td>\n",
       "      <td>F</td>\n",
       "      <td>20</td>\n",
       "      <td>미혼 / 비혼</td>\n",
       "      <td>모름</td>\n",
       "      <td>충북</td>\n",
       "    </tr>\n",
       "    <tr>\n",
       "      <th>24</th>\n",
       "      <td>Y</td>\n",
       "      <td>Y</td>\n",
       "      <td>Y</td>\n",
       "      <td>Y</td>\n",
       "      <td>Y</td>\n",
       "      <td>Y</td>\n",
       "      <td>Y</td>\n",
       "      <td>Y</td>\n",
       "      <td>Y</td>\n",
       "      <td>Y</td>\n",
       "      <td>...</td>\n",
       "      <td>Y</td>\n",
       "      <td>N</td>\n",
       "      <td>N</td>\n",
       "      <td>N</td>\n",
       "      <td>N</td>\n",
       "      <td>F</td>\n",
       "      <td>20</td>\n",
       "      <td>미혼 / 비혼</td>\n",
       "      <td>모름</td>\n",
       "      <td>경북</td>\n",
       "    </tr>\n",
       "    <tr>\n",
       "      <th>100</th>\n",
       "      <td>Y</td>\n",
       "      <td>Y</td>\n",
       "      <td>N</td>\n",
       "      <td>Y</td>\n",
       "      <td>N</td>\n",
       "      <td>Y</td>\n",
       "      <td>Y</td>\n",
       "      <td>Y</td>\n",
       "      <td>N</td>\n",
       "      <td>Y</td>\n",
       "      <td>...</td>\n",
       "      <td>N</td>\n",
       "      <td>N</td>\n",
       "      <td>N</td>\n",
       "      <td>N</td>\n",
       "      <td>Y</td>\n",
       "      <td>F</td>\n",
       "      <td>20</td>\n",
       "      <td>미혼 / 비혼</td>\n",
       "      <td>모름</td>\n",
       "      <td>충남</td>\n",
       "    </tr>\n",
       "    <tr>\n",
       "      <th>121</th>\n",
       "      <td>Y</td>\n",
       "      <td>N</td>\n",
       "      <td>Y</td>\n",
       "      <td>Y</td>\n",
       "      <td>Y</td>\n",
       "      <td>Y</td>\n",
       "      <td>Y</td>\n",
       "      <td>Y</td>\n",
       "      <td>Y</td>\n",
       "      <td>N</td>\n",
       "      <td>...</td>\n",
       "      <td>N</td>\n",
       "      <td>N</td>\n",
       "      <td>N</td>\n",
       "      <td>N</td>\n",
       "      <td>N</td>\n",
       "      <td>F</td>\n",
       "      <td>30</td>\n",
       "      <td>미혼 / 비혼</td>\n",
       "      <td>모름</td>\n",
       "      <td>서울</td>\n",
       "    </tr>\n",
       "    <tr>\n",
       "      <th>...</th>\n",
       "      <td>...</td>\n",
       "      <td>...</td>\n",
       "      <td>...</td>\n",
       "      <td>...</td>\n",
       "      <td>...</td>\n",
       "      <td>...</td>\n",
       "      <td>...</td>\n",
       "      <td>...</td>\n",
       "      <td>...</td>\n",
       "      <td>...</td>\n",
       "      <td>...</td>\n",
       "      <td>...</td>\n",
       "      <td>...</td>\n",
       "      <td>...</td>\n",
       "      <td>...</td>\n",
       "      <td>...</td>\n",
       "      <td>...</td>\n",
       "      <td>...</td>\n",
       "      <td>...</td>\n",
       "      <td>...</td>\n",
       "      <td>...</td>\n",
       "    </tr>\n",
       "    <tr>\n",
       "      <th>68409</th>\n",
       "      <td>Y</td>\n",
       "      <td>Y</td>\n",
       "      <td>Y</td>\n",
       "      <td>Y</td>\n",
       "      <td>Y</td>\n",
       "      <td>Y</td>\n",
       "      <td>Y</td>\n",
       "      <td>Y</td>\n",
       "      <td>Y</td>\n",
       "      <td>Y</td>\n",
       "      <td>...</td>\n",
       "      <td>Y</td>\n",
       "      <td>N</td>\n",
       "      <td>Y</td>\n",
       "      <td>N</td>\n",
       "      <td>Y</td>\n",
       "      <td>F</td>\n",
       "      <td>20</td>\n",
       "      <td>미혼 / 비혼</td>\n",
       "      <td>모름</td>\n",
       "      <td>경기</td>\n",
       "    </tr>\n",
       "    <tr>\n",
       "      <th>68411</th>\n",
       "      <td>N</td>\n",
       "      <td>Y</td>\n",
       "      <td>N</td>\n",
       "      <td>Y</td>\n",
       "      <td>N</td>\n",
       "      <td>N</td>\n",
       "      <td>N</td>\n",
       "      <td>N</td>\n",
       "      <td>N</td>\n",
       "      <td>N</td>\n",
       "      <td>...</td>\n",
       "      <td>N</td>\n",
       "      <td>N</td>\n",
       "      <td>N</td>\n",
       "      <td>N</td>\n",
       "      <td>N</td>\n",
       "      <td>M</td>\n",
       "      <td>20</td>\n",
       "      <td>미혼 / 비혼</td>\n",
       "      <td>모름</td>\n",
       "      <td>경기</td>\n",
       "    </tr>\n",
       "    <tr>\n",
       "      <th>68419</th>\n",
       "      <td>N</td>\n",
       "      <td>N</td>\n",
       "      <td>N</td>\n",
       "      <td>N</td>\n",
       "      <td>N</td>\n",
       "      <td>N</td>\n",
       "      <td>N</td>\n",
       "      <td>N</td>\n",
       "      <td>N</td>\n",
       "      <td>N</td>\n",
       "      <td>...</td>\n",
       "      <td>N</td>\n",
       "      <td>N</td>\n",
       "      <td>N</td>\n",
       "      <td>N</td>\n",
       "      <td>N</td>\n",
       "      <td>M</td>\n",
       "      <td>10</td>\n",
       "      <td>미혼 / 비혼</td>\n",
       "      <td>모름</td>\n",
       "      <td>광주</td>\n",
       "    </tr>\n",
       "    <tr>\n",
       "      <th>68422</th>\n",
       "      <td>Y</td>\n",
       "      <td>Y</td>\n",
       "      <td>Y</td>\n",
       "      <td>N</td>\n",
       "      <td>N</td>\n",
       "      <td>N</td>\n",
       "      <td>Y</td>\n",
       "      <td>Y</td>\n",
       "      <td>N</td>\n",
       "      <td>Y</td>\n",
       "      <td>...</td>\n",
       "      <td>Y</td>\n",
       "      <td>N</td>\n",
       "      <td>N</td>\n",
       "      <td>N</td>\n",
       "      <td>Y</td>\n",
       "      <td>F</td>\n",
       "      <td>20</td>\n",
       "      <td>기혼</td>\n",
       "      <td>모름</td>\n",
       "      <td>대전</td>\n",
       "    </tr>\n",
       "    <tr>\n",
       "      <th>68433</th>\n",
       "      <td>Y</td>\n",
       "      <td>Y</td>\n",
       "      <td>Y</td>\n",
       "      <td>Y</td>\n",
       "      <td>Y</td>\n",
       "      <td>N</td>\n",
       "      <td>Y</td>\n",
       "      <td>Y</td>\n",
       "      <td>N</td>\n",
       "      <td>Y</td>\n",
       "      <td>...</td>\n",
       "      <td>N</td>\n",
       "      <td>N</td>\n",
       "      <td>N</td>\n",
       "      <td>N</td>\n",
       "      <td>Y</td>\n",
       "      <td>M</td>\n",
       "      <td>20</td>\n",
       "      <td>미혼 / 비혼</td>\n",
       "      <td>모름</td>\n",
       "      <td>경기</td>\n",
       "    </tr>\n",
       "  </tbody>\n",
       "</table>\n",
       "<p>4417 rows × 23 columns</p>\n",
       "</div>"
      ],
      "text/plain": [
       "      K-POP_아이돌 게임 사진_촬영 방송_영상 웹툰 검색_포털 금융 예매 여행 음식_주문  ... 전자지갑 청소_가사노동 부동산  \\\n",
       "13            N  N     Y     Y  Y     Y  Y  Y  Y     Y  ...    N       N   N   \n",
       "23            Y  Y     Y     Y  Y     Y  Y  N  Y     Y  ...    Y       N   N   \n",
       "24            Y  Y     Y     Y  Y     Y  Y  Y  Y     Y  ...    Y       N   N   \n",
       "100           Y  Y     N     Y  N     Y  Y  Y  N     Y  ...    N       N   N   \n",
       "121           Y  N     Y     Y  Y     Y  Y  Y  Y     N  ...    N       N   N   \n",
       "...         ... ..   ...   ... ..   ... .. .. ..   ...  ...  ...     ...  ..   \n",
       "68409         Y  Y     Y     Y  Y     Y  Y  Y  Y     Y  ...    Y       N   Y   \n",
       "68411         N  Y     N     Y  N     N  N  N  N     N  ...    N       N   N   \n",
       "68419         N  N     N     N  N     N  N  N  N     N  ...    N       N   N   \n",
       "68422         Y  Y     Y     N  N     N  Y  Y  N     Y  ...    Y       N   N   \n",
       "68433         Y  Y     Y     Y  Y     N  Y  Y  N     Y  ...    N       N   N   \n",
       "\n",
       "      병원_약국_의약품_검색 중고거래 성별  나이       결혼 월_소득  거주지역  \n",
       "13               Y    Y  F  30  미혼 / 비혼   모름    인천  \n",
       "23               N    N  F  20  미혼 / 비혼   모름    충북  \n",
       "24               N    N  F  20  미혼 / 비혼   모름    경북  \n",
       "100              N    Y  F  20  미혼 / 비혼   모름    충남  \n",
       "121              N    N  F  30  미혼 / 비혼   모름    서울  \n",
       "...            ...  ... ..  ..      ...  ...   ...  \n",
       "68409            N    Y  F  20  미혼 / 비혼   모름    경기  \n",
       "68411            N    N  M  20  미혼 / 비혼   모름    경기  \n",
       "68419            N    N  M  10  미혼 / 비혼   모름    광주  \n",
       "68422            N    Y  F  20       기혼   모름    대전  \n",
       "68433            N    Y  M  20  미혼 / 비혼   모름    경기  \n",
       "\n",
       "[4417 rows x 23 columns]"
      ]
     },
     "execution_count": 35,
     "metadata": {},
     "output_type": "execute_result"
    }
   ],
   "source": [
    "df[df['월_소득'] == '모름']"
   ]
  },
  {
   "cell_type": "code",
   "execution_count": 36,
   "id": "4044dd5e-e1b6-431b-b3a6-a31a015c299e",
   "metadata": {},
   "outputs": [],
   "source": [
    "import numpy as np"
   ]
  },
  {
   "cell_type": "code",
   "execution_count": 37,
   "id": "efdb8069-b9de-4403-9aa9-520d64e26d0e",
   "metadata": {},
   "outputs": [],
   "source": [
    "df.replace({'월_소득' : '모름'}, np.nan,inplace=True)"
   ]
  },
  {
   "cell_type": "code",
   "execution_count": 38,
   "id": "2c991cab-3b3c-45ad-ade3-bebf2de3c92e",
   "metadata": {},
   "outputs": [
    {
     "data": {
      "text/plain": [
       "K-POP_아이돌          0\n",
       "게임                 0\n",
       "사진_촬영              0\n",
       "방송_영상              0\n",
       "웹툰                 0\n",
       "검색_포털              0\n",
       "금융                 0\n",
       "예매                 0\n",
       "여행                 0\n",
       "음식_주문              0\n",
       "맛집_추천_예약           0\n",
       "쇼핑                 0\n",
       "헬스                 0\n",
       "전자지갑               0\n",
       "청소_가사노동            0\n",
       "부동산                0\n",
       "병원_약국_의약품_검색       0\n",
       "중고거래               0\n",
       "성별                 0\n",
       "나이                 0\n",
       "결혼                 0\n",
       "월_소득            4417\n",
       "거주지역               0\n",
       "dtype: int64"
      ]
     },
     "execution_count": 38,
     "metadata": {},
     "output_type": "execute_result"
    }
   ],
   "source": [
    "df.isna().sum()"
   ]
  },
  {
   "cell_type": "code",
   "execution_count": 39,
   "id": "2f459d34-0835-481a-958e-698e0cb5bba0",
   "metadata": {},
   "outputs": [],
   "source": [
    "df.dropna(inplace=True)"
   ]
  },
  {
   "cell_type": "code",
   "execution_count": 40,
   "id": "547b68f7-d73c-4c12-84af-ef397195fcd0",
   "metadata": {},
   "outputs": [
    {
     "data": {
      "text/plain": [
       "K-POP_아이돌       0\n",
       "게임              0\n",
       "사진_촬영           0\n",
       "방송_영상           0\n",
       "웹툰              0\n",
       "검색_포털           0\n",
       "금융              0\n",
       "예매              0\n",
       "여행              0\n",
       "음식_주문           0\n",
       "맛집_추천_예약        0\n",
       "쇼핑              0\n",
       "헬스              0\n",
       "전자지갑            0\n",
       "청소_가사노동         0\n",
       "부동산             0\n",
       "병원_약국_의약품_검색    0\n",
       "중고거래            0\n",
       "성별              0\n",
       "나이              0\n",
       "결혼              0\n",
       "월_소득            0\n",
       "거주지역            0\n",
       "dtype: int64"
      ]
     },
     "execution_count": 40,
     "metadata": {},
     "output_type": "execute_result"
    }
   ],
   "source": [
    "df.isna().sum()"
   ]
  },
  {
   "cell_type": "code",
   "execution_count": 41,
   "id": "929020dd-de1f-4edf-8010-0bc580af526a",
   "metadata": {},
   "outputs": [],
   "source": [
    "df.replace({'월_소득' : '100만원 미만'}, '100',inplace=True)"
   ]
  },
  {
   "cell_type": "code",
   "execution_count": 42,
   "id": "5577531a-060e-4e97-8816-efc8243da603",
   "metadata": {},
   "outputs": [],
   "source": [
    "df.replace({'월_소득' : '1,000만원 이상'}, '1000만원',inplace=True)"
   ]
  },
  {
   "cell_type": "code",
   "execution_count": 43,
   "id": "d2750e53-1d42-4ac9-9531-5a4500e6728f",
   "metadata": {},
   "outputs": [
    {
     "data": {
      "text/plain": [
       "array(['600만원', '200만원', '100만원', '400만원', '500만원', '1000만원', '900만원',\n",
       "       '700만원', '800만원', '100', '1,000만원', '300만원'], dtype=object)"
      ]
     },
     "execution_count": 43,
     "metadata": {},
     "output_type": "execute_result"
    }
   ],
   "source": [
    "df['월_소득'].unique()"
   ]
  },
  {
   "cell_type": "code",
   "execution_count": 44,
   "id": "d65de84e-e1de-42e3-bccc-bec1e3bacc73",
   "metadata": {},
   "outputs": [],
   "source": [
    "df['월_소득'] = df['월_소득'].str.replace(',', '')"
   ]
  },
  {
   "cell_type": "code",
   "execution_count": 45,
   "id": "a4ebe5ed-6770-40c5-9af1-4de270029478",
   "metadata": {},
   "outputs": [],
   "source": [
    "df['월_소득'] = df['월_소득'].str.replace('만원','')"
   ]
  },
  {
   "cell_type": "code",
   "execution_count": 46,
   "id": "d2e0aa2d-3c25-441b-860c-387417e4cacb",
   "metadata": {},
   "outputs": [],
   "source": [
    "df['월_소득'] = df['월_소득'].astype(int)"
   ]
  },
  {
   "cell_type": "code",
   "execution_count": 47,
   "id": "3b859534-b1cf-41a9-8c4e-b99535e03be8",
   "metadata": {},
   "outputs": [
    {
     "data": {
      "text/plain": [
       "array([ 600,  200,  100,  400,  500, 1000,  900,  700,  800,  300])"
      ]
     },
     "execution_count": 47,
     "metadata": {},
     "output_type": "execute_result"
    }
   ],
   "source": [
    "df['월_소득'].unique()"
   ]
  },
  {
   "cell_type": "code",
   "execution_count": 48,
   "id": "c537e17f-b658-4abf-9156-f6713d384444",
   "metadata": {},
   "outputs": [
    {
     "data": {
      "text/plain": [
       "array(['미혼 / 비혼', '기혼', '기타(이혼, 사별 등)'], dtype=object)"
      ]
     },
     "execution_count": 48,
     "metadata": {},
     "output_type": "execute_result"
    }
   ],
   "source": [
    "df['결혼'].unique()"
   ]
  },
  {
   "cell_type": "code",
   "execution_count": 49,
   "id": "d91b6106-30b6-4f26-a3b8-fb94ac37860d",
   "metadata": {},
   "outputs": [
    {
     "data": {
      "text/plain": [
       "array(['서울', '경기', '인천', '충남', '경남', '부산', '대구', '울산', '광주', '경북', '전북',\n",
       "       '세종', '제주', '강원', '대전', '충북', '전남'], dtype=object)"
      ]
     },
     "execution_count": 49,
     "metadata": {},
     "output_type": "execute_result"
    }
   ],
   "source": [
    "df['거주지역'].unique()"
   ]
  },
  {
   "cell_type": "code",
   "execution_count": 50,
   "id": "1e21d068-c17f-43c5-950d-12496f082c85",
   "metadata": {},
   "outputs": [],
   "source": [
    "from sklearn.compose import ColumnTransformer\n",
    "from sklearn.preprocessing import OneHotEncoder\n",
    "from sklearn.preprocessing import LabelEncoder"
   ]
  },
  {
   "cell_type": "code",
   "execution_count": null,
   "id": "e7c69cbc-f96b-489c-a592-3162b198a632",
   "metadata": {},
   "outputs": [],
   "source": []
  },
  {
   "cell_type": "code",
   "execution_count": 51,
   "id": "b61f910a-4bd9-44db-a593-92c2fa89b4f9",
   "metadata": {},
   "outputs": [
    {
     "data": {
      "text/plain": [
       "Index(['K-POP_아이돌', '게임', '사진_촬영', '방송_영상', '웹툰', '검색_포털', '금융', '예매', '여행',\n",
       "       '음식_주문', '맛집_추천_예약', '쇼핑', '헬스', '전자지갑', '청소_가사노동', '부동산',\n",
       "       '병원_약국_의약품_검색', '중고거래', '성별', '나이', '결혼', '월_소득', '거주지역'],\n",
       "      dtype='object')"
      ]
     },
     "execution_count": 51,
     "metadata": {},
     "output_type": "execute_result"
    }
   ],
   "source": [
    "df.columns"
   ]
  },
  {
   "cell_type": "code",
   "execution_count": null,
   "id": "0dc512cc-b53d-4ea2-b607-98ba7e7f1d29",
   "metadata": {},
   "outputs": [],
   "source": []
  },
  {
   "cell_type": "code",
   "execution_count": 52,
   "id": "299a0a67-a7cd-450e-88a4-f211e47c5e89",
   "metadata": {},
   "outputs": [],
   "source": [
    "from sklearn.model_selection import train_test_split"
   ]
  },
  {
   "cell_type": "code",
   "execution_count": 53,
   "id": "2b8d303e-6584-4e61-8488-c38116246560",
   "metadata": {},
   "outputs": [],
   "source": [
    "X = df.loc[ : , '성별':'거주지역']"
   ]
  },
  {
   "cell_type": "code",
   "execution_count": 54,
   "id": "92f810d5-2213-417f-aa04-36031687d970",
   "metadata": {},
   "outputs": [],
   "source": [
    "y = df.loc[ : , : '중고거래']"
   ]
  },
  {
   "cell_type": "code",
   "execution_count": 55,
   "id": "b8d9cb30-7cc4-43ea-8302-1b68e0898caa",
   "metadata": {},
   "outputs": [],
   "source": [
    "def label_encode(y):\n",
    "    y_encoder = LabelEncoder()\n",
    "    y_encoded = y.copy()\n",
    "    for col in y.columns:\n",
    "        y_encoded[col] = y_encoder.fit_transform(y[col])\n",
    "    return y_encoded\n",
    "\n",
    "y = label_encode(y)"
   ]
  },
  {
   "cell_type": "code",
   "execution_count": 56,
   "id": "5f5cfbfe-2861-4654-ba07-2119daf80ab8",
   "metadata": {},
   "outputs": [
    {
     "data": {
      "text/html": [
       "<div>\n",
       "<style scoped>\n",
       "    .dataframe tbody tr th:only-of-type {\n",
       "        vertical-align: middle;\n",
       "    }\n",
       "\n",
       "    .dataframe tbody tr th {\n",
       "        vertical-align: top;\n",
       "    }\n",
       "\n",
       "    .dataframe thead th {\n",
       "        text-align: right;\n",
       "    }\n",
       "</style>\n",
       "<table border=\"1\" class=\"dataframe\">\n",
       "  <thead>\n",
       "    <tr style=\"text-align: right;\">\n",
       "      <th></th>\n",
       "      <th>K-POP_아이돌</th>\n",
       "      <th>게임</th>\n",
       "      <th>사진_촬영</th>\n",
       "      <th>방송_영상</th>\n",
       "      <th>웹툰</th>\n",
       "      <th>검색_포털</th>\n",
       "      <th>금융</th>\n",
       "      <th>예매</th>\n",
       "      <th>여행</th>\n",
       "      <th>음식_주문</th>\n",
       "      <th>맛집_추천_예약</th>\n",
       "      <th>쇼핑</th>\n",
       "      <th>헬스</th>\n",
       "      <th>전자지갑</th>\n",
       "      <th>청소_가사노동</th>\n",
       "      <th>부동산</th>\n",
       "      <th>병원_약국_의약품_검색</th>\n",
       "      <th>중고거래</th>\n",
       "    </tr>\n",
       "  </thead>\n",
       "  <tbody>\n",
       "    <tr>\n",
       "      <th>0</th>\n",
       "      <td>0</td>\n",
       "      <td>0</td>\n",
       "      <td>1</td>\n",
       "      <td>1</td>\n",
       "      <td>0</td>\n",
       "      <td>0</td>\n",
       "      <td>1</td>\n",
       "      <td>1</td>\n",
       "      <td>0</td>\n",
       "      <td>1</td>\n",
       "      <td>0</td>\n",
       "      <td>0</td>\n",
       "      <td>0</td>\n",
       "      <td>1</td>\n",
       "      <td>0</td>\n",
       "      <td>1</td>\n",
       "      <td>0</td>\n",
       "      <td>0</td>\n",
       "    </tr>\n",
       "    <tr>\n",
       "      <th>1</th>\n",
       "      <td>0</td>\n",
       "      <td>1</td>\n",
       "      <td>1</td>\n",
       "      <td>1</td>\n",
       "      <td>0</td>\n",
       "      <td>0</td>\n",
       "      <td>1</td>\n",
       "      <td>1</td>\n",
       "      <td>1</td>\n",
       "      <td>1</td>\n",
       "      <td>1</td>\n",
       "      <td>1</td>\n",
       "      <td>1</td>\n",
       "      <td>1</td>\n",
       "      <td>0</td>\n",
       "      <td>0</td>\n",
       "      <td>0</td>\n",
       "      <td>0</td>\n",
       "    </tr>\n",
       "    <tr>\n",
       "      <th>2</th>\n",
       "      <td>0</td>\n",
       "      <td>1</td>\n",
       "      <td>1</td>\n",
       "      <td>1</td>\n",
       "      <td>1</td>\n",
       "      <td>1</td>\n",
       "      <td>1</td>\n",
       "      <td>0</td>\n",
       "      <td>0</td>\n",
       "      <td>0</td>\n",
       "      <td>0</td>\n",
       "      <td>0</td>\n",
       "      <td>0</td>\n",
       "      <td>0</td>\n",
       "      <td>0</td>\n",
       "      <td>0</td>\n",
       "      <td>0</td>\n",
       "      <td>0</td>\n",
       "    </tr>\n",
       "    <tr>\n",
       "      <th>3</th>\n",
       "      <td>1</td>\n",
       "      <td>0</td>\n",
       "      <td>0</td>\n",
       "      <td>1</td>\n",
       "      <td>0</td>\n",
       "      <td>1</td>\n",
       "      <td>1</td>\n",
       "      <td>0</td>\n",
       "      <td>0</td>\n",
       "      <td>0</td>\n",
       "      <td>0</td>\n",
       "      <td>1</td>\n",
       "      <td>1</td>\n",
       "      <td>1</td>\n",
       "      <td>0</td>\n",
       "      <td>0</td>\n",
       "      <td>0</td>\n",
       "      <td>0</td>\n",
       "    </tr>\n",
       "    <tr>\n",
       "      <th>4</th>\n",
       "      <td>0</td>\n",
       "      <td>1</td>\n",
       "      <td>1</td>\n",
       "      <td>1</td>\n",
       "      <td>0</td>\n",
       "      <td>1</td>\n",
       "      <td>1</td>\n",
       "      <td>0</td>\n",
       "      <td>1</td>\n",
       "      <td>1</td>\n",
       "      <td>0</td>\n",
       "      <td>1</td>\n",
       "      <td>1</td>\n",
       "      <td>1</td>\n",
       "      <td>0</td>\n",
       "      <td>0</td>\n",
       "      <td>0</td>\n",
       "      <td>1</td>\n",
       "    </tr>\n",
       "    <tr>\n",
       "      <th>...</th>\n",
       "      <td>...</td>\n",
       "      <td>...</td>\n",
       "      <td>...</td>\n",
       "      <td>...</td>\n",
       "      <td>...</td>\n",
       "      <td>...</td>\n",
       "      <td>...</td>\n",
       "      <td>...</td>\n",
       "      <td>...</td>\n",
       "      <td>...</td>\n",
       "      <td>...</td>\n",
       "      <td>...</td>\n",
       "      <td>...</td>\n",
       "      <td>...</td>\n",
       "      <td>...</td>\n",
       "      <td>...</td>\n",
       "      <td>...</td>\n",
       "      <td>...</td>\n",
       "    </tr>\n",
       "    <tr>\n",
       "      <th>68436</th>\n",
       "      <td>0</td>\n",
       "      <td>0</td>\n",
       "      <td>0</td>\n",
       "      <td>0</td>\n",
       "      <td>0</td>\n",
       "      <td>0</td>\n",
       "      <td>0</td>\n",
       "      <td>0</td>\n",
       "      <td>0</td>\n",
       "      <td>0</td>\n",
       "      <td>0</td>\n",
       "      <td>0</td>\n",
       "      <td>0</td>\n",
       "      <td>0</td>\n",
       "      <td>0</td>\n",
       "      <td>0</td>\n",
       "      <td>0</td>\n",
       "      <td>0</td>\n",
       "    </tr>\n",
       "    <tr>\n",
       "      <th>68437</th>\n",
       "      <td>0</td>\n",
       "      <td>0</td>\n",
       "      <td>0</td>\n",
       "      <td>0</td>\n",
       "      <td>0</td>\n",
       "      <td>0</td>\n",
       "      <td>0</td>\n",
       "      <td>0</td>\n",
       "      <td>0</td>\n",
       "      <td>0</td>\n",
       "      <td>0</td>\n",
       "      <td>0</td>\n",
       "      <td>0</td>\n",
       "      <td>0</td>\n",
       "      <td>0</td>\n",
       "      <td>0</td>\n",
       "      <td>0</td>\n",
       "      <td>0</td>\n",
       "    </tr>\n",
       "    <tr>\n",
       "      <th>68438</th>\n",
       "      <td>0</td>\n",
       "      <td>0</td>\n",
       "      <td>1</td>\n",
       "      <td>1</td>\n",
       "      <td>0</td>\n",
       "      <td>1</td>\n",
       "      <td>1</td>\n",
       "      <td>0</td>\n",
       "      <td>0</td>\n",
       "      <td>0</td>\n",
       "      <td>1</td>\n",
       "      <td>0</td>\n",
       "      <td>0</td>\n",
       "      <td>1</td>\n",
       "      <td>0</td>\n",
       "      <td>0</td>\n",
       "      <td>0</td>\n",
       "      <td>1</td>\n",
       "    </tr>\n",
       "    <tr>\n",
       "      <th>68439</th>\n",
       "      <td>0</td>\n",
       "      <td>0</td>\n",
       "      <td>0</td>\n",
       "      <td>0</td>\n",
       "      <td>0</td>\n",
       "      <td>0</td>\n",
       "      <td>0</td>\n",
       "      <td>0</td>\n",
       "      <td>0</td>\n",
       "      <td>0</td>\n",
       "      <td>0</td>\n",
       "      <td>0</td>\n",
       "      <td>0</td>\n",
       "      <td>0</td>\n",
       "      <td>0</td>\n",
       "      <td>0</td>\n",
       "      <td>0</td>\n",
       "      <td>0</td>\n",
       "    </tr>\n",
       "    <tr>\n",
       "      <th>68440</th>\n",
       "      <td>0</td>\n",
       "      <td>0</td>\n",
       "      <td>1</td>\n",
       "      <td>1</td>\n",
       "      <td>0</td>\n",
       "      <td>0</td>\n",
       "      <td>1</td>\n",
       "      <td>0</td>\n",
       "      <td>0</td>\n",
       "      <td>0</td>\n",
       "      <td>0</td>\n",
       "      <td>0</td>\n",
       "      <td>0</td>\n",
       "      <td>0</td>\n",
       "      <td>0</td>\n",
       "      <td>1</td>\n",
       "      <td>0</td>\n",
       "      <td>1</td>\n",
       "    </tr>\n",
       "  </tbody>\n",
       "</table>\n",
       "<p>64024 rows × 18 columns</p>\n",
       "</div>"
      ],
      "text/plain": [
       "       K-POP_아이돌  게임  사진_촬영  방송_영상  웹툰  검색_포털  금융  예매  여행  음식_주문  맛집_추천_예약  \\\n",
       "0              0   0      1      1   0      0   1   1   0      1         0   \n",
       "1              0   1      1      1   0      0   1   1   1      1         1   \n",
       "2              0   1      1      1   1      1   1   0   0      0         0   \n",
       "3              1   0      0      1   0      1   1   0   0      0         0   \n",
       "4              0   1      1      1   0      1   1   0   1      1         0   \n",
       "...          ...  ..    ...    ...  ..    ...  ..  ..  ..    ...       ...   \n",
       "68436          0   0      0      0   0      0   0   0   0      0         0   \n",
       "68437          0   0      0      0   0      0   0   0   0      0         0   \n",
       "68438          0   0      1      1   0      1   1   0   0      0         1   \n",
       "68439          0   0      0      0   0      0   0   0   0      0         0   \n",
       "68440          0   0      1      1   0      0   1   0   0      0         0   \n",
       "\n",
       "       쇼핑  헬스  전자지갑  청소_가사노동  부동산  병원_약국_의약품_검색  중고거래  \n",
       "0       0   0     1        0    1             0     0  \n",
       "1       1   1     1        0    0             0     0  \n",
       "2       0   0     0        0    0             0     0  \n",
       "3       1   1     1        0    0             0     0  \n",
       "4       1   1     1        0    0             0     1  \n",
       "...    ..  ..   ...      ...  ...           ...   ...  \n",
       "68436   0   0     0        0    0             0     0  \n",
       "68437   0   0     0        0    0             0     0  \n",
       "68438   0   0     1        0    0             0     1  \n",
       "68439   0   0     0        0    0             0     0  \n",
       "68440   0   0     0        0    1             0     1  \n",
       "\n",
       "[64024 rows x 18 columns]"
      ]
     },
     "execution_count": 56,
     "metadata": {},
     "output_type": "execute_result"
    }
   ],
   "source": [
    "y"
   ]
  },
  {
   "cell_type": "code",
   "execution_count": null,
   "id": "635e97ba-fe94-48f4-87e2-e6b5472d596a",
   "metadata": {},
   "outputs": [],
   "source": []
  },
  {
   "cell_type": "code",
   "execution_count": 57,
   "id": "0bcc70a1-3e74-445b-a5be-f83cac50332e",
   "metadata": {},
   "outputs": [
    {
     "data": {
      "text/html": [
       "<div>\n",
       "<style scoped>\n",
       "    .dataframe tbody tr th:only-of-type {\n",
       "        vertical-align: middle;\n",
       "    }\n",
       "\n",
       "    .dataframe tbody tr th {\n",
       "        vertical-align: top;\n",
       "    }\n",
       "\n",
       "    .dataframe thead th {\n",
       "        text-align: right;\n",
       "    }\n",
       "</style>\n",
       "<table border=\"1\" class=\"dataframe\">\n",
       "  <thead>\n",
       "    <tr style=\"text-align: right;\">\n",
       "      <th></th>\n",
       "      <th>성별</th>\n",
       "      <th>나이</th>\n",
       "      <th>결혼</th>\n",
       "      <th>월_소득</th>\n",
       "      <th>거주지역</th>\n",
       "    </tr>\n",
       "  </thead>\n",
       "  <tbody>\n",
       "    <tr>\n",
       "      <th>0</th>\n",
       "      <td>F</td>\n",
       "      <td>30</td>\n",
       "      <td>미혼 / 비혼</td>\n",
       "      <td>600</td>\n",
       "      <td>서울</td>\n",
       "    </tr>\n",
       "    <tr>\n",
       "      <th>1</th>\n",
       "      <td>M</td>\n",
       "      <td>40</td>\n",
       "      <td>기혼</td>\n",
       "      <td>600</td>\n",
       "      <td>경기</td>\n",
       "    </tr>\n",
       "    <tr>\n",
       "      <th>2</th>\n",
       "      <td>F</td>\n",
       "      <td>20</td>\n",
       "      <td>미혼 / 비혼</td>\n",
       "      <td>200</td>\n",
       "      <td>인천</td>\n",
       "    </tr>\n",
       "    <tr>\n",
       "      <th>3</th>\n",
       "      <td>M</td>\n",
       "      <td>50</td>\n",
       "      <td>기타(이혼, 사별 등)</td>\n",
       "      <td>100</td>\n",
       "      <td>경기</td>\n",
       "    </tr>\n",
       "    <tr>\n",
       "      <th>4</th>\n",
       "      <td>M</td>\n",
       "      <td>30</td>\n",
       "      <td>미혼 / 비혼</td>\n",
       "      <td>400</td>\n",
       "      <td>경기</td>\n",
       "    </tr>\n",
       "    <tr>\n",
       "      <th>...</th>\n",
       "      <td>...</td>\n",
       "      <td>...</td>\n",
       "      <td>...</td>\n",
       "      <td>...</td>\n",
       "      <td>...</td>\n",
       "    </tr>\n",
       "    <tr>\n",
       "      <th>68436</th>\n",
       "      <td>F</td>\n",
       "      <td>30</td>\n",
       "      <td>기타(이혼, 사별 등)</td>\n",
       "      <td>500</td>\n",
       "      <td>충남</td>\n",
       "    </tr>\n",
       "    <tr>\n",
       "      <th>68437</th>\n",
       "      <td>F</td>\n",
       "      <td>20</td>\n",
       "      <td>미혼 / 비혼</td>\n",
       "      <td>100</td>\n",
       "      <td>서울</td>\n",
       "    </tr>\n",
       "    <tr>\n",
       "      <th>68438</th>\n",
       "      <td>F</td>\n",
       "      <td>60</td>\n",
       "      <td>기혼</td>\n",
       "      <td>300</td>\n",
       "      <td>경기</td>\n",
       "    </tr>\n",
       "    <tr>\n",
       "      <th>68439</th>\n",
       "      <td>M</td>\n",
       "      <td>30</td>\n",
       "      <td>미혼 / 비혼</td>\n",
       "      <td>300</td>\n",
       "      <td>경남</td>\n",
       "    </tr>\n",
       "    <tr>\n",
       "      <th>68440</th>\n",
       "      <td>M</td>\n",
       "      <td>30</td>\n",
       "      <td>기혼</td>\n",
       "      <td>600</td>\n",
       "      <td>경기</td>\n",
       "    </tr>\n",
       "  </tbody>\n",
       "</table>\n",
       "<p>64024 rows × 5 columns</p>\n",
       "</div>"
      ],
      "text/plain": [
       "      성별  나이            결혼  월_소득 거주지역\n",
       "0      F  30       미혼 / 비혼   600   서울\n",
       "1      M  40            기혼   600   경기\n",
       "2      F  20       미혼 / 비혼   200   인천\n",
       "3      M  50  기타(이혼, 사별 등)   100   경기\n",
       "4      M  30       미혼 / 비혼   400   경기\n",
       "...   ..  ..           ...   ...  ...\n",
       "68436  F  30  기타(이혼, 사별 등)   500   충남\n",
       "68437  F  20       미혼 / 비혼   100   서울\n",
       "68438  F  60            기혼   300   경기\n",
       "68439  M  30       미혼 / 비혼   300   경남\n",
       "68440  M  30            기혼   600   경기\n",
       "\n",
       "[64024 rows x 5 columns]"
      ]
     },
     "execution_count": 57,
     "metadata": {},
     "output_type": "execute_result"
    }
   ],
   "source": [
    "X"
   ]
  },
  {
   "cell_type": "code",
   "execution_count": 58,
   "id": "e5e1a3fd-298f-4875-acf0-1d5b9279ee37",
   "metadata": {},
   "outputs": [
    {
     "data": {
      "text/plain": [
       "17"
      ]
     },
     "execution_count": 58,
     "metadata": {},
     "output_type": "execute_result"
    }
   ],
   "source": [
    "X['거주지역'].nunique()"
   ]
  },
  {
   "cell_type": "code",
   "execution_count": 59,
   "id": "a083d2d9-4325-4cc9-99eb-5ad4911df766",
   "metadata": {},
   "outputs": [
    {
     "data": {
      "text/plain": [
       "['F', 'M']"
      ]
     },
     "execution_count": 59,
     "metadata": {},
     "output_type": "execute_result"
    }
   ],
   "source": [
    "sorted(X['성별'].unique())"
   ]
  },
  {
   "cell_type": "code",
   "execution_count": 60,
   "id": "7bbf9216-1ba8-4e3f-9ac6-6857710fbf94",
   "metadata": {},
   "outputs": [],
   "source": [
    "X_label_encoder= LabelEncoder()\n",
    "X['성별'] = X_label_encoder.fit_transform(X['성별'])"
   ]
  },
  {
   "cell_type": "code",
   "execution_count": null,
   "id": "d75dec93-96c5-4a5a-bd38-80efdbdd79b8",
   "metadata": {},
   "outputs": [],
   "source": []
  },
  {
   "cell_type": "code",
   "execution_count": 61,
   "id": "ed25ba88-43a9-46c0-a629-a06f209f2fe0",
   "metadata": {},
   "outputs": [],
   "source": [
    "onehot_encoder = OneHotEncoder()"
   ]
  },
  {
   "cell_type": "code",
   "execution_count": 62,
   "id": "a4404cee-f1ad-4194-a4f2-f3df68ca3dec",
   "metadata": {},
   "outputs": [],
   "source": [
    "ct = ColumnTransformer(transformers=[ ('onehot', onehot_encoder, ['결혼', '거주지역'] ) ], remainder='passthrough')"
   ]
  },
  {
   "cell_type": "code",
   "execution_count": 63,
   "id": "35e3e62b-a006-486b-8aaa-450552dbab2d",
   "metadata": {},
   "outputs": [],
   "source": [
    "X_encoded = ct.fit_transform(X)"
   ]
  },
  {
   "cell_type": "code",
   "execution_count": 64,
   "id": "f911ffcf-1f09-4f21-a3eb-258655f8bce7",
   "metadata": {},
   "outputs": [
    {
     "data": {
      "text/plain": [
       "<64024x23 sparse matrix of type '<class 'numpy.float64'>'\n",
       "\twith 291327 stored elements in Compressed Sparse Row format>"
      ]
     },
     "execution_count": 64,
     "metadata": {},
     "output_type": "execute_result"
    }
   ],
   "source": [
    "X_encoded"
   ]
  },
  {
   "cell_type": "code",
   "execution_count": null,
   "id": "d2bf5ca6-1f3f-4369-a54e-06af80615f42",
   "metadata": {},
   "outputs": [],
   "source": []
  },
  {
   "cell_type": "code",
   "execution_count": 65,
   "id": "34bd01ad-6a03-48b8-87d6-9bb4e16cc112",
   "metadata": {},
   "outputs": [
    {
     "name": "stdout",
     "output_type": "stream",
     "text": [
      "<class 'pandas.core.frame.DataFrame'>\n",
      "Index: 64024 entries, 0 to 68440\n",
      "Data columns (total 18 columns):\n",
      " #   Column        Non-Null Count  Dtype\n",
      "---  ------        --------------  -----\n",
      " 0   K-POP_아이돌     64024 non-null  int32\n",
      " 1   게임            64024 non-null  int32\n",
      " 2   사진_촬영         64024 non-null  int32\n",
      " 3   방송_영상         64024 non-null  int32\n",
      " 4   웹툰            64024 non-null  int32\n",
      " 5   검색_포털         64024 non-null  int32\n",
      " 6   금융            64024 non-null  int32\n",
      " 7   예매            64024 non-null  int32\n",
      " 8   여행            64024 non-null  int32\n",
      " 9   음식_주문         64024 non-null  int32\n",
      " 10  맛집_추천_예약      64024 non-null  int32\n",
      " 11  쇼핑            64024 non-null  int32\n",
      " 12  헬스            64024 non-null  int32\n",
      " 13  전자지갑          64024 non-null  int32\n",
      " 14  청소_가사노동       64024 non-null  int32\n",
      " 15  부동산           64024 non-null  int32\n",
      " 16  병원_약국_의약품_검색  64024 non-null  int32\n",
      " 17  중고거래          64024 non-null  int32\n",
      "dtypes: int32(18)\n",
      "memory usage: 4.9 MB\n"
     ]
    }
   ],
   "source": [
    "y.info()"
   ]
  },
  {
   "cell_type": "code",
   "execution_count": 66,
   "id": "e8e32638-6183-4b57-91db-a72820857023",
   "metadata": {},
   "outputs": [
    {
     "data": {
      "text/plain": [
       "K-POP_아이돌\n",
       "0    48551\n",
       "1    15473\n",
       "Name: count, dtype: int64"
      ]
     },
     "execution_count": 66,
     "metadata": {},
     "output_type": "execute_result"
    }
   ],
   "source": [
    "y['K-POP_아이돌'].value_counts()"
   ]
  },
  {
   "cell_type": "code",
   "execution_count": null,
   "id": "724684d7-0a90-4744-b319-fcc8a61a57f5",
   "metadata": {},
   "outputs": [],
   "source": []
  },
  {
   "cell_type": "code",
   "execution_count": null,
   "id": "d1b79880-50e6-4522-a1b6-b5d67aa9fc2c",
   "metadata": {},
   "outputs": [],
   "source": []
  },
  {
   "cell_type": "code",
   "execution_count": null,
   "id": "e023bacc-e647-448c-844d-b3d1b9430e72",
   "metadata": {},
   "outputs": [],
   "source": []
  },
  {
   "cell_type": "code",
   "execution_count": 67,
   "id": "e008332a-efd3-4ed0-ad83-75f8cfc77186",
   "metadata": {},
   "outputs": [],
   "source": [
    "X_train, X_test, y_train, y_test = train_test_split(X_encoded, y, test_size=0.25, random_state=17)"
   ]
  },
  {
   "cell_type": "code",
   "execution_count": 68,
   "id": "6b00476b-8c71-48b9-9d5d-e683e742b497",
   "metadata": {},
   "outputs": [
    {
     "data": {
      "text/plain": [
       "<48018x23 sparse matrix of type '<class 'numpy.float64'>'\n",
       "\twith 218465 stored elements in Compressed Sparse Row format>"
      ]
     },
     "execution_count": 68,
     "metadata": {},
     "output_type": "execute_result"
    }
   ],
   "source": [
    "X_train"
   ]
  },
  {
   "cell_type": "code",
   "execution_count": 69,
   "id": "8cd24502-7436-4ab3-bd0b-81bc3fd2d013",
   "metadata": {},
   "outputs": [
    {
     "data": {
      "text/plain": [
       "(48018, 18)"
      ]
     },
     "execution_count": 69,
     "metadata": {},
     "output_type": "execute_result"
    }
   ],
   "source": [
    "y_train.shape"
   ]
  },
  {
   "cell_type": "code",
   "execution_count": null,
   "id": "cd8fa69b-43d6-40cb-ba77-d1cf64c33cb1",
   "metadata": {},
   "outputs": [],
   "source": []
  },
  {
   "cell_type": "code",
   "execution_count": 70,
   "id": "2560e11d-b3a6-4eb9-9214-1f74700df15f",
   "metadata": {},
   "outputs": [],
   "source": [
    "from sklearn.ensemble import RandomForestClassifier"
   ]
  },
  {
   "cell_type": "code",
   "execution_count": 71,
   "id": "4dc5699b-c987-4983-9065-0b1567a5423d",
   "metadata": {},
   "outputs": [],
   "source": [
    "model = RandomForestClassifier(class_weight=None,random_state=17)"
   ]
  },
  {
   "cell_type": "code",
   "execution_count": null,
   "id": "dc9f4411-8fff-4259-9860-14ea07943764",
   "metadata": {},
   "outputs": [],
   "source": []
  },
  {
   "cell_type": "code",
   "execution_count": null,
   "id": "89e3ea86-f6c8-4655-a71b-465ca02dae83",
   "metadata": {},
   "outputs": [],
   "source": []
  },
  {
   "cell_type": "code",
   "execution_count": 72,
   "id": "31b12d60-f3c9-40d6-b691-07b478736109",
   "metadata": {},
   "outputs": [
    {
     "data": {
      "text/html": [
       "<style>#sk-container-id-1 {color: black;}#sk-container-id-1 pre{padding: 0;}#sk-container-id-1 div.sk-toggleable {background-color: white;}#sk-container-id-1 label.sk-toggleable__label {cursor: pointer;display: block;width: 100%;margin-bottom: 0;padding: 0.3em;box-sizing: border-box;text-align: center;}#sk-container-id-1 label.sk-toggleable__label-arrow:before {content: \"▸\";float: left;margin-right: 0.25em;color: #696969;}#sk-container-id-1 label.sk-toggleable__label-arrow:hover:before {color: black;}#sk-container-id-1 div.sk-estimator:hover label.sk-toggleable__label-arrow:before {color: black;}#sk-container-id-1 div.sk-toggleable__content {max-height: 0;max-width: 0;overflow: hidden;text-align: left;background-color: #f0f8ff;}#sk-container-id-1 div.sk-toggleable__content pre {margin: 0.2em;color: black;border-radius: 0.25em;background-color: #f0f8ff;}#sk-container-id-1 input.sk-toggleable__control:checked~div.sk-toggleable__content {max-height: 200px;max-width: 100%;overflow: auto;}#sk-container-id-1 input.sk-toggleable__control:checked~label.sk-toggleable__label-arrow:before {content: \"▾\";}#sk-container-id-1 div.sk-estimator input.sk-toggleable__control:checked~label.sk-toggleable__label {background-color: #d4ebff;}#sk-container-id-1 div.sk-label input.sk-toggleable__control:checked~label.sk-toggleable__label {background-color: #d4ebff;}#sk-container-id-1 input.sk-hidden--visually {border: 0;clip: rect(1px 1px 1px 1px);clip: rect(1px, 1px, 1px, 1px);height: 1px;margin: -1px;overflow: hidden;padding: 0;position: absolute;width: 1px;}#sk-container-id-1 div.sk-estimator {font-family: monospace;background-color: #f0f8ff;border: 1px dotted black;border-radius: 0.25em;box-sizing: border-box;margin-bottom: 0.5em;}#sk-container-id-1 div.sk-estimator:hover {background-color: #d4ebff;}#sk-container-id-1 div.sk-parallel-item::after {content: \"\";width: 100%;border-bottom: 1px solid gray;flex-grow: 1;}#sk-container-id-1 div.sk-label:hover label.sk-toggleable__label {background-color: #d4ebff;}#sk-container-id-1 div.sk-serial::before {content: \"\";position: absolute;border-left: 1px solid gray;box-sizing: border-box;top: 0;bottom: 0;left: 50%;z-index: 0;}#sk-container-id-1 div.sk-serial {display: flex;flex-direction: column;align-items: center;background-color: white;padding-right: 0.2em;padding-left: 0.2em;position: relative;}#sk-container-id-1 div.sk-item {position: relative;z-index: 1;}#sk-container-id-1 div.sk-parallel {display: flex;align-items: stretch;justify-content: center;background-color: white;position: relative;}#sk-container-id-1 div.sk-item::before, #sk-container-id-1 div.sk-parallel-item::before {content: \"\";position: absolute;border-left: 1px solid gray;box-sizing: border-box;top: 0;bottom: 0;left: 50%;z-index: -1;}#sk-container-id-1 div.sk-parallel-item {display: flex;flex-direction: column;z-index: 1;position: relative;background-color: white;}#sk-container-id-1 div.sk-parallel-item:first-child::after {align-self: flex-end;width: 50%;}#sk-container-id-1 div.sk-parallel-item:last-child::after {align-self: flex-start;width: 50%;}#sk-container-id-1 div.sk-parallel-item:only-child::after {width: 0;}#sk-container-id-1 div.sk-dashed-wrapped {border: 1px dashed gray;margin: 0 0.4em 0.5em 0.4em;box-sizing: border-box;padding-bottom: 0.4em;background-color: white;}#sk-container-id-1 div.sk-label label {font-family: monospace;font-weight: bold;display: inline-block;line-height: 1.2em;}#sk-container-id-1 div.sk-label-container {text-align: center;}#sk-container-id-1 div.sk-container {/* jupyter's `normalize.less` sets `[hidden] { display: none; }` but bootstrap.min.css set `[hidden] { display: none !important; }` so we also need the `!important` here to be able to override the default hidden behavior on the sphinx rendered scikit-learn.org. See: https://github.com/scikit-learn/scikit-learn/issues/21755 */display: inline-block !important;position: relative;}#sk-container-id-1 div.sk-text-repr-fallback {display: none;}</style><div id=\"sk-container-id-1\" class=\"sk-top-container\"><div class=\"sk-text-repr-fallback\"><pre>RandomForestClassifier(random_state=17)</pre><b>In a Jupyter environment, please rerun this cell to show the HTML representation or trust the notebook. <br />On GitHub, the HTML representation is unable to render, please try loading this page with nbviewer.org.</b></div><div class=\"sk-container\" hidden><div class=\"sk-item\"><div class=\"sk-estimator sk-toggleable\"><input class=\"sk-toggleable__control sk-hidden--visually\" id=\"sk-estimator-id-1\" type=\"checkbox\" checked><label for=\"sk-estimator-id-1\" class=\"sk-toggleable__label sk-toggleable__label-arrow\">RandomForestClassifier</label><div class=\"sk-toggleable__content\"><pre>RandomForestClassifier(random_state=17)</pre></div></div></div></div></div>"
      ],
      "text/plain": [
       "RandomForestClassifier(random_state=17)"
      ]
     },
     "execution_count": 72,
     "metadata": {},
     "output_type": "execute_result"
    }
   ],
   "source": [
    "model.fit(X_train,y_train)"
   ]
  },
  {
   "cell_type": "code",
   "execution_count": 73,
   "id": "ce07313a-f40b-441f-bed7-93c366488a75",
   "metadata": {},
   "outputs": [],
   "source": [
    "y_pred = model.predict(X_test)"
   ]
  },
  {
   "cell_type": "code",
   "execution_count": 86,
   "id": "324e5c42-1582-4ed2-bff5-f51f9eaaee15",
   "metadata": {},
   "outputs": [],
   "source": [
    "from sklearn.metrics import hamming_loss, f1_score, jaccard_score, accuracy_score"
   ]
  },
  {
   "cell_type": "code",
   "execution_count": 88,
   "id": "3eb084ff-6cc1-47c8-a487-5e8982f71cfe",
   "metadata": {},
   "outputs": [],
   "source": [
    "hamming_loss_score = hamming_loss(y_test, y_pred)"
   ]
  },
  {
   "cell_type": "code",
   "execution_count": 89,
   "id": "d1ee9ae9-f040-4fa0-9dc7-6d53228eb6ce",
   "metadata": {},
   "outputs": [
    {
     "data": {
      "text/plain": [
       "0.2923868826967665"
      ]
     },
     "execution_count": 89,
     "metadata": {},
     "output_type": "execute_result"
    }
   ],
   "source": [
    "hamming_loss_score"
   ]
  },
  {
   "cell_type": "code",
   "execution_count": 91,
   "id": "01c0bcb5-95d4-4257-8fff-65bb941e655a",
   "metadata": {},
   "outputs": [],
   "source": [
    "micro_f1_score = f1_score(y_test, y_pred, average='micro')"
   ]
  },
  {
   "cell_type": "code",
   "execution_count": 92,
   "id": "d31b9b69-5a03-4c07-b5f6-bdb94b22801a",
   "metadata": {},
   "outputs": [
    {
     "data": {
      "text/plain": [
       "0.4560417917772483"
      ]
     },
     "execution_count": 92,
     "metadata": {},
     "output_type": "execute_result"
    }
   ],
   "source": [
    "micro_f1_score"
   ]
  },
  {
   "cell_type": "code",
   "execution_count": 94,
   "id": "4adc3712-f598-41b5-a523-69f37ba84c6b",
   "metadata": {},
   "outputs": [],
   "source": [
    "macro_f1_score = f1_score(y_test, y_pred, average='macro')"
   ]
  },
  {
   "cell_type": "code",
   "execution_count": 95,
   "id": "3618a985-42f6-4115-9947-2aafccc5b341",
   "metadata": {},
   "outputs": [
    {
     "data": {
      "text/plain": [
       "0.2556794540289955"
      ]
     },
     "execution_count": 95,
     "metadata": {},
     "output_type": "execute_result"
    }
   ],
   "source": [
    "macro_f1_score"
   ]
  },
  {
   "cell_type": "code",
   "execution_count": 96,
   "id": "b20c303c-a0d8-4c92-babf-736a78b99661",
   "metadata": {},
   "outputs": [
    {
     "name": "stderr",
     "output_type": "stream",
     "text": [
      "C:\\Users\\406\\.conda\\envs\\st_310\\lib\\site-packages\\sklearn\\metrics\\_classification.py:1469: UndefinedMetricWarning: Jaccard is ill-defined and being set to 0.0 in samples with no true or predicted labels. Use `zero_division` parameter to control this behavior.\n",
      "  _warn_prf(average, modifier, msg_start, len(result))\n"
     ]
    }
   ],
   "source": [
    "jaccard_score_value = jaccard_score(y_test, y_pred, average='samples')"
   ]
  },
  {
   "cell_type": "code",
   "execution_count": 97,
   "id": "9ae8f48b-45fe-44d4-8e06-6986fb80c34f",
   "metadata": {},
   "outputs": [
    {
     "data": {
      "text/plain": [
       "0.24559394094242237"
      ]
     },
     "execution_count": 97,
     "metadata": {},
     "output_type": "execute_result"
    }
   ],
   "source": [
    "jaccard_score_value"
   ]
  },
  {
   "cell_type": "code",
   "execution_count": 98,
   "id": "cad466cc-83b7-4c8c-90f0-8330fe2c6f7e",
   "metadata": {},
   "outputs": [],
   "source": [
    "accuracy = accuracy_score(y_test, y_pred)"
   ]
  },
  {
   "cell_type": "code",
   "execution_count": 99,
   "id": "eb17b805-0210-4046-9657-67d4549a4652",
   "metadata": {},
   "outputs": [
    {
     "data": {
      "text/plain": [
       "0.045170561039610146"
      ]
     },
     "execution_count": 99,
     "metadata": {},
     "output_type": "execute_result"
    }
   ],
   "source": [
    "accuracy"
   ]
  },
  {
   "cell_type": "code",
   "execution_count": 100,
   "id": "1ab2aaa8-a599-498f-96c8-747d231d6b0c",
   "metadata": {},
   "outputs": [],
   "source": [
    "# Hamming Loss: 0부터 1까지의 범위를 가집니다. 0에 가까울수록 모델의 예측이 완벽합니다.\n",
    "# Micro F1 Score: 0부터 1까지의 범위를 가집니다. 1에 가까울수록 모델의 예측이 완벽합니다.\n",
    "# Macro F1 Score: 0부터 1까지의 범위를 가집니다. 1에 가까울수록 모델의 예측이 완벽합니다.\n",
    "# Jaccard Similarity Score: 0부터 1까지의 범위를 가집니다. 1에 가까울수록 모델의 예측이 완벽합니다.\n",
    "# Accuracy Score: 0부터 1까지의 범위를 가집니다. 1에 가까울수록 모델의 예측이 완벽합니다."
   ]
  },
  {
   "cell_type": "code",
   "execution_count": null,
   "id": "e41e431b-5ae6-42d8-8c28-f0790c34abc9",
   "metadata": {},
   "outputs": [],
   "source": []
  },
  {
   "cell_type": "code",
   "execution_count": null,
   "id": "c20dba81-56cc-4bc2-bb8f-5e2c6776b85c",
   "metadata": {},
   "outputs": [],
   "source": []
  },
  {
   "cell_type": "code",
   "execution_count": 79,
   "id": "e688bcaf-3465-4dc9-902e-7ecb4bf22f8c",
   "metadata": {},
   "outputs": [],
   "source": [
    "import joblib"
   ]
  },
  {
   "cell_type": "code",
   "execution_count": 80,
   "id": "e1441d99-4ec7-4bbf-a190-332157f984e9",
   "metadata": {},
   "outputs": [
    {
     "data": {
      "text/plain": [
       "['model.pkl']"
      ]
     },
     "execution_count": 80,
     "metadata": {},
     "output_type": "execute_result"
    }
   ],
   "source": [
    "joblib.dump(model,'model.pkl')"
   ]
  },
  {
   "cell_type": "code",
   "execution_count": 81,
   "id": "09a55fbe-caab-4b1a-8cc4-a3d22191d910",
   "metadata": {},
   "outputs": [
    {
     "data": {
      "text/plain": [
       "['ct.pkl']"
      ]
     },
     "execution_count": 81,
     "metadata": {},
     "output_type": "execute_result"
    }
   ],
   "source": [
    "joblib.dump(ct,'ct.pkl')"
   ]
  },
  {
   "cell_type": "code",
   "execution_count": 82,
   "id": "8d43e3a6-601b-49b9-95dd-e1d44bc75e93",
   "metadata": {},
   "outputs": [
    {
     "data": {
      "text/plain": [
       "['X_label_encoder.pkl']"
      ]
     },
     "execution_count": 82,
     "metadata": {},
     "output_type": "execute_result"
    }
   ],
   "source": [
    "joblib.dump(X_label_encoder,'X_label_encoder.pkl')"
   ]
  },
  {
   "cell_type": "code",
   "execution_count": null,
   "id": "20c2ece7-2cba-4fef-a0a0-dbadb054441d",
   "metadata": {},
   "outputs": [],
   "source": []
  },
  {
   "cell_type": "code",
   "execution_count": null,
   "id": "ae2414a8-62f1-4c33-832a-a2165870ff3a",
   "metadata": {},
   "outputs": [],
   "source": []
  }
 ],
 "metadata": {
  "kernelspec": {
   "display_name": "Python 3 (ipykernel)",
   "language": "python",
   "name": "python3"
  },
  "language_info": {
   "codemirror_mode": {
    "name": "ipython",
    "version": 3
   },
   "file_extension": ".py",
   "mimetype": "text/x-python",
   "name": "python",
   "nbconvert_exporter": "python",
   "pygments_lexer": "ipython3",
   "version": "3.10.14"
  }
 },
 "nbformat": 4,
 "nbformat_minor": 5
}
